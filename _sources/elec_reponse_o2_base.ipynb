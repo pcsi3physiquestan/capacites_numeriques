{
 "cells": [
  {
   "cell_type": "markdown",
   "id": "0143070c",
   "metadata": {},
   "source": [
    "La page ci-présente existe en version notebook téléchargeable grâce au bouton ![Bouton](./images/bouton_tl.png) (choisir le format `.ipynb`). On rappelle qu'l faut ensuite l'enregistrer dans un répertoire adéquat sur votre ordinateur (`capa_num` par exemple dans votre répertoire personnel) puis lancer Jupyter Notebook depuis Anaconda pour accéder au notebook, le modifier et exécutez les cellules de code adéquates.\n",
    "\n",
    "# Implémentation basique\n",
    "\n",
    "## Schéma d'euler - Système d'équations\n",
    "On va chercher à résoudre le système suivant:\n",
    "\n",
    "$$\n",
    "\\begin{cases}\n",
    "\\frac{\\rm{d}u}{\\rm{dt}} = - \\frac{1}{\\tau} v - \\frac{2}{\\tau}u\\\\\n",
    "\\frac{\\rm{d}v}{\\rm{dt}} = - \\frac{1}{\\tau} v - \\frac{1}{\\tau}u\n",
    "\\end{cases}\n",
    "$$\n",
    "avec $v(t=0) = 2$, $u(t=0) = 0$,  $\\tau = 1$\n",
    "\n",
    "> __Exercice 1 :__  \n",
    "> 1. Copier-coller la fonction `euler` que vous avez écrite pour la séance précédente. Si le corps de la fonction ne change pas, sa signature change:\n",
    "```{code-block}\n",
    "euler(f:callable, y0: numpy.ndarray, t0: float, tf: float, pas: float) -> (numpy.ndarray, numpy.ndarray)\n",
    "```\n",
    "> 2. Ecrire une fonction `F(t:float, Y:numpy.ndarray) -> numpy.ndarray` qui renvoie la fonction $F$ du schéma d'Euler précédent. __Attention, cette fois, `Y` est un vecteur (dont les composantes sont $u_k$ et $v_k$) et $F$ renvoie un vecteur (dont les composantes sont $\\frac{\\rm{d}u}{\\rm{dt}}(t_k)$ et $\\frac{\\rm{d}v}{\\rm{dt}}(t_k)$ obtenus à partir du système d'équations). Veillez à renvoyer un vecteur et non une liste (pourquoi ?).__\n",
    "> 3. Utiliser la fonction `euler` pour obtenir $Y(t)$ puis tracer $u(t)$ et $v(t)$ entre $t=0$ et $t=10$. A vous de choisir le pas d'intégration sachant que $\\tau$ est à peu près le \"temps caractéristique\" du système.\n",
    "> 4. Obtenir la solution grâce aux fonction `odeint` ou `solve_ivp` puis les tracer pour vérifier que vous obtenez le même tracé."
   ]
  },
  {
   "cell_type": "code",
   "execution_count": 1,
   "id": "b8e787df",
   "metadata": {
    "tags": [
     "remove-output",
     "hide-input"
    ]
   },
   "outputs": [
    {
     "data": {
      "text/plain": [
       "\"Ne pas oubliez d'importer les bibliothèques scientifiques.\""
      ]
     },
     "execution_count": 1,
     "metadata": {},
     "output_type": "execute_result"
    }
   ],
   "source": [
    "\"\"\"Ne pas oubliez d'importer les bibliothèques scientifiques.\"\"\""
   ]
  },
  {
   "cell_type": "markdown",
   "id": "9ce35a15",
   "metadata": {},
   "source": [
    "## Schéma d'Euler - Ordre 2\n",
    "On veut résoudre l'équation différentielle suivante:\n",
    "\n",
    "```{margin}\n",
    "On pourra vérifier théoriquement qu'en éliminant $v(t)$ du système précédent, on obtient cette équation.\n",
    "```\n",
    "$$\n",
    "\\frac{\\rm{d^2}u}{\\rm{dt^2}} = - \\frac{3}{\\tau}\\frac{\\rm{d}u}{\\rm{dt}} - \\frac{1}{\\tau}u\n",
    "$$\n",
    "\n",
    "On va donc travailler avec le vecteur :\n",
    "\n",
    "$$ Y(t)=\n",
    "\\begin{pmatrix}\n",
    "u(t)\\\\\n",
    "\\frac{\\rm{d}u}{\\rm{dt}}(t)\n",
    "\\end{pmatrix}\n",
    "$$\n",
    "\n",
    "\n",
    "> __Exercice 2 :__  \n",
    "> 1. La fonction `euler` a-t-elle besoin d'être modifiée ?\n",
    "> 2. Ecrire une fonction `F2(t, Y)` correspondant au schéma d'Euler comme [expliqué précédemment](sys_o2).\n",
    "> 3. Obtenir la solution  sur le même intervale de temps que dans l'exercice précédent et vérifier que la solution coïncide avec la solution trouvée avec un système d'équations."
   ]
  },
  {
   "cell_type": "code",
   "execution_count": null,
   "id": "918ee0c2",
   "metadata": {
    "tags": [
     "remove-output",
     "hide-input"
    ]
   },
   "outputs": [],
   "source": []
  }
 ],
 "metadata": {
  "jupytext": {
   "text_representation": {
    "extension": ".md",
    "format_name": "myst",
    "format_version": 0.13,
    "jupytext_version": "1.10.3"
   }
  },
  "kernelspec": {
   "display_name": "Python 3",
   "language": "python",
   "name": "python3"
  },
  "language_info": {
   "codemirror_mode": {
    "name": "ipython",
    "version": 3
   },
   "file_extension": ".py",
   "mimetype": "text/x-python",
   "name": "python",
   "nbconvert_exporter": "python",
   "pygments_lexer": "ipython3",
   "version": "3.9.15"
  },
  "source_map": [
   12,
   37,
   41,
   68
  ]
 },
 "nbformat": 4,
 "nbformat_minor": 5
}