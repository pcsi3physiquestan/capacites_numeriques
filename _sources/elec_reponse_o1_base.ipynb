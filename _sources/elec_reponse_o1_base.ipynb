{
 "cells": [
  {
   "cell_type": "markdown",
   "id": "organized-judgment",
   "metadata": {},
   "source": [
    "La page ci-présente existe en version notebook téléchargeable grâce au bouton ![Bouton](./images/bouton_tl.png) (choisir le format `.ipynb`). On rappelle qu'l faut ensuite l'enregistrer dans un répertoire adéquat sur votre ordinateur (`capa_num` par exemple dans votre répertoire personnel) puis lancer Jupyter Notebook depuis Anaconda pour accéder au notebook, le modifier et exécutez les cellules de code adéquates.\n",
    "\n",
    "# Implémentation basique\n",
    "__Si vous vous sentez suffisamment à l'aise,__ vous pouvez passer directement à l'[étude approfondie](elec_reponse_o1_complet).\n",
    "\n",
    "## Définition des fonctions pour le schéma d'Euler\n",
    "On va commencer par définir la fonction $f(t,y)$ pour les deux types d'étude : le régime libre et l'échelon de tension.\n",
    "\n",
    "__Attention : Même si $f$ ne dépend pas explicitement du temps, on gardera $t$ comme argument de la fonction car cet argument est nécessaire quand on utilise les fonctions natives de `numpy` pour intégrer une équation différentielle.__\n",
    "\n",
    "> __Exercice A__  \n",
    "> Dans la cellule ci-après, vous devez:\n",
    "> 1. Importer les deux bibliothèques `numpy` et `matplotlib.pyplot`\n",
    "> 2. Créer deux fonction `f_libre` et `f_echelon` prenant deux arguments `t` et `u` (correspondant à un instant $t_k$ et à $u_k = u(u_k)$) et qui renvoie la valeur $f(t_k, u_k)$ pour chaque cas (régime libre et échelon de tension) (u est la tension aux bornes du condensateur comme dans l'étude présentée dans l'[exemple](pospb)). _Vous pouvez définir $R,C$ et $\\tau$ comme des variables globales que vous utilisez dans les fonctions._"
   ]
  },
  {
   "cell_type": "code",
   "execution_count": 1,
   "id": "short-numbers",
   "metadata": {
    "tags": [
     "hide-input",
     "remove-output"
    ]
   },
   "outputs": [
    {
     "data": {
      "text/plain": [
       "\"Ne pas oublier d'importer les bibliothèques scientifiques et d'éxécuter la cellule.\""
      ]
     },
     "execution_count": 1,
     "metadata": {},
     "output_type": "execute_result"
    }
   ],
   "source": [
    "\"\"\"Ne pas oublier d'importer les bibliothèques scientifiques et d'éxécuter la cellule.\"\"\""
   ]
  },
  {
   "cell_type": "markdown",
   "id": "convertible-process",
   "metadata": {},
   "source": [
    "## Implémentation du schéma d'Euler\n",
    "### Cas du régime libre\n",
    "L'implémentation suivante est à bien comprendre et à savoir refaire sans guide. Elle est la base des intégrations numériques. Dans un premier temps, on prendra $h= \\tau / 1000$ et on prendra les valeurs $R$ et $C$ données [précédemment](miseq).\n",
    "\n",
    "> __Exercice B__ : Avec une boucle for  \n",
    "> 1. Ecrire une suite d'instructions qui:\n",
    ">     * (Préparation) Définit le pas `h`, la constante de temps `tau`, le temps final `t_f` et le nombre d'intégration `N` à réaliser.\n",
    ">     * (Initialisation) Créer deux __listes__ vide `tkf` et `ukf` dans lesquels on stockera les valeurs $t_k$ et $u_k$ puis ajouter à ces listes les conditions initiales $t_0$ et $u_0$. On prendra $u_0 = u(t_0) = 1 \\rm{V}$ et $t_0 = 0$.\n",
    ">     * (Boucle) Dans une boucle for, réalise plusieurs fois l'intégration numérique avec le pas `h` et la fonction `f_libre`. A chaque fois, vous devrez calculer la valeur $u_{k+1}$ que vous stockerez dans la liste `ukf` puis le nouveau temps $t_{k+1}$ que vous stockerez dans la liste `tkf`. Bien réfléchir aux bornes de la boucle.\n",
    ">     * (Terminaison) Pour une utilisation plus simples ensuite des listes de valeurs `tkf` et `ukf`. Transformer les deux listes en deux vecteurs `numpy`."
   ]
  },
  {
   "cell_type": "code",
   "execution_count": 2,
   "id": "instrumental-running",
   "metadata": {
    "tags": [
     "hide-input",
     "remove-output"
    ]
   },
   "outputs": [],
   "source": [
    "# On rappelle que la fonction f_libre est accessible et que les bibliothèques scientifiques ont été créés."
   ]
  },
  {
   "cell_type": "markdown",
   "id": "coupled-tonight",
   "metadata": {},
   "source": [
    "> __Exercice C__ : Avec une boucle while  \n",
    "> 1. Ecrire une suite d'instructions qui:\n",
    ">     * (Préparation) Définit le pas `h`, la constante de temps `tau`, le temps final `t_f`.\n",
    ">     * (Initialisation) Créer deux __listes__ vide `tkw` et `ukw` dans lesquels on stockera les valeurs $t_k$ et $u_k$ puis ajouter à ces listes les conditions initiales $t_0$ et $u_0$. On prendra $u_0 = u(t_0) = 1 \\rm{V}$ et $t_0 = 0$.\n",
    ">     * (Boucle) Dans une boucle while, réalise plusieurs fois l'intégration numérique avec le pas `h` et la fonction `f_libre`. A chaque fois, vous devrez calculer la valeur $u_{k+1}$ que vous stockerez dans la liste `ukw` puis le nouveau temps $t_{k+1}$ que vous stockerez dans la liste `tkw`. Bien réfléchir à la condition de sortie de la boucle.\n",
    ">     * (Terminaison) Pour une utilisation plus simples ensuite des listes de valeurs `tkw` et `ukw`. Transformer les deux listes en deux vecteurs `numpy`.\n",
    "> 2. Tracer $y(t)$ pour chaque intégration (for et while). Tracer sur le même graphique la solution analytique pour comparaison (utilisez les $t_k$ comme abscisses). __N'oubliez pas de légender la figure.__\n",
    "\n",
    "On rappelle que la solution analytique est:\n",
    "\n",
    "$$\n",
    "y(t) = y_0 \\exp^{- t / \\tau}\n",
    "$$\n",
    "_Note : Certaines étapes pourraient être raffinées (création du vecteur temps par exemple)._"
   ]
  },
  {
   "cell_type": "code",
   "execution_count": 3,
   "id": "pointed-actress",
   "metadata": {
    "tags": [
     "hide-input",
     "remove-output"
    ]
   },
   "outputs": [],
   "source": [
    "# On rappelle que la fonction f_libre est accessible et que les bibliothèques scientifiques ont été créés."
   ]
  },
  {
   "cell_type": "markdown",
   "id": "electronic-sector",
   "metadata": {},
   "source": [
    "### Influence du pas d'intégration\n",
    "> __Exercice D__ :\n",
    "> 1. Reprendre la suite d'instructions précédente (avec for ou while peu importe) pour $h = \\tau / 10$; $h = \\tau / 2$; $h = \\tau$; $h = 2 * \\tau$. Réaliser le tracé $y(t)$ pour chaque cas ainsi que la comparaison avec la solution analytique.\n",
    "> 2. En déduire comment choisir correctement le pas d'intégration."
   ]
  },
  {
   "cell_type": "code",
   "execution_count": null,
   "id": "finnish-stanley",
   "metadata": {
    "tags": [
     "hide-input",
     "remove-output"
    ]
   },
   "outputs": [],
   "source": []
  },
  {
   "cell_type": "markdown",
   "id": "hired-partner",
   "metadata": {},
   "source": [
    "### Cas de la réponse à un échelon de tension.\n",
    "> __Exercice E__ :\n",
    "> 1. Reprendre la suite d'instructions précédente (avec for ou while peu importe) avec un pas d'intégration correctement et obtenir la solution numérique pour un échelon de tension ($E = 1V$ et $y_0 = 0V$). Le comparer à la solution analytique.\n",
    "\n",
    "On rappelle que la solution analytique est:\n",
    "\n",
    "$$\n",
    "y(t) = E(1 -  \\exp^{- t / \\tau})\n",
    "$$"
   ]
  },
  {
   "cell_type": "code",
   "execution_count": null,
   "id": "clear-bubble",
   "metadata": {
    "tags": [
     "hide-input",
     "remove-output"
    ]
   },
   "outputs": [],
   "source": []
  },
  {
   "cell_type": "markdown",
   "id": "subtle-lending",
   "metadata": {},
   "source": [
    "La nécessité de copier-coller le même code pour chaque test montre qu'il serait bien plus efficace de mettre ces instructions dans une fonction qu'on réutiliserait plusieurs fois. C'est l'objectif de la première partie de l'étude complète avant de l'utiliser pour la réponse à une entrée plus complexe : une rampe de tension."
   ]
  }
 ],
 "metadata": {
  "jupytext": {
   "formats": "ipynb,md:myst,py:light",
   "text_representation": {
    "extension": ".md",
    "format_name": "myst",
    "format_version": 0.13,
    "jupytext_version": "1.10.3"
   }
  },
  "kernelspec": {
   "display_name": "Python 3",
   "language": "python",
   "name": "python3"
  },
  "language_info": {
   "codemirror_mode": {
    "name": "ipython",
    "version": 3
   },
   "file_extension": ".py",
   "mimetype": "text/x-python",
   "name": "python",
   "nbconvert_exporter": "python",
   "pygments_lexer": "ipython3",
   "version": "3.9.2"
  },
  "source_map": [
   13,
   29,
   32,
   45,
   48,
   65,
   68,
   75,
   77,
   90,
   92
  ]
 },
 "nbformat": 4,
 "nbformat_minor": 5
}