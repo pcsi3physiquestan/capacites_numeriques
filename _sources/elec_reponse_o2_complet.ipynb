{
 "cells": [
  {
   "cell_type": "markdown",
   "id": "applicable-drill",
   "metadata": {},
   "source": [
    "La page ci-présente existe en version notebook téléchargeable grâce au bouton ![Bouton](./images/bouton_tl.png) (choisir le format `.ipynb`). On rappelle qu'l faut ensuite l'enregistrer dans un répertoire adéquat sur votre ordinateur (`capa_num` par exemple dans votre répertoire personnel) puis lancer Jupyter Notebook depuis Anaconda pour accéder au notebook, le modifier et exécutez les cellules de code adéquates.\n",
    "\n",
    "# Etude d'un système d'ordre 2 : le pendule\n",
    "\n",
    "## Etude générale\n",
    "On va étudier directement un système d'ordre 2 issu d'un problème de mécanique: le pendule simple sans frottement. L'équation qui régit l'évolution de l'angle $\\theta(t)$ que fait le pendule avec un axe horizontal est:\n",
    "\n",
    "$$\n",
    "\\frac{\\rm{d^2}\\theta}{\\rm{dt^2}} = - \\omega_0^2 \\sin \\theta\n",
    "$$\n",
    "\n",
    "avec $\\omega_0 = \\sqrt{\\frac{g}{l}}$ ($l=1\\rm{m}$ est la longueur du fil du pendule et $g=9.81 \\rm{m.s^{-2}}$ l'intensité du champ de pesanteur).\n",
    "\n",
    "> __Exercice 1:__  \n",
    "> 1. Si l'on pose le vecteur $Y(t) = (\\theta(t), \\dot \\theta(t))$, écrire la fonction `F` associée au schéma d'Euler puis utiliser la fonction `solve_ivp` (la réécrire dans la cellule suivante pour pouvoir l'utiliser) pour obtenir $\\theta(t)$ si $\\theta(0) = \\pi /4$ et $\\dot \\theta(0) = 0$\n",
    "> 2. Tracer sur deux graphiques différents l'évolution de $\\theta(t)$ et de sa dérivée. Observe-t-on le comportement d'un oscillateur harmonique ?"
   ]
  },
  {
   "cell_type": "code",
   "execution_count": null,
   "id": "optional-border",
   "metadata": {
    "tags": [
     "remove-output",
     "hide-input"
    ]
   },
   "outputs": [],
   "source": []
  },
  {
   "cell_type": "markdown",
   "id": "informed-killing",
   "metadata": {},
   "source": [
    "## Petites et grandes oscillations\n",
    "### Différences\n",
    "Aux petits angles, l'équation différentielle devient:\n",
    "$$\n",
    "\\frac{\\rm{d^2}\\theta}{\\rm{dt^2}} = - \\omega_0^2 \\theta\n",
    "$$\n",
    "soit un oscillateur harmonique dont la solution analytique est:\n",
    "\n",
    "\\begin{equation}\n",
    "\\theta (t) = \\theta_i \\cos \\omega_0 t + \\frac{\\omega_i}{\\omega_0} \\sin \\omega_0 t\n",
    "\\end{equation}\n",
    "avec $\\theta_i = \\theta(0)$ et $\\omega_i = \\dot \\theta (0)$.\n",
    "\n",
    "> __Exercice 3:__  \n",
    "> 1. On considère le cas où on lâche le pendule de $\\theta_i = 0$ avec une vitesse initiale $\\omega_i$. Déterminer grâce à `solve_ivp` __sans approximation__ l'évolution de $\\theta(t)$ pour cinq vitesses de départ différentes répartis entre 0 et $\\sqrt{\\frac{2g}{l}}$ et comparer graphiquement les solutions obtenues à la solutions théoriques aux petites angles. Cette approximation est-elle valable jusqu'à $\\sqrt{\\frac{2g}{l}}$ ?"
   ]
  },
  {
   "cell_type": "code",
   "execution_count": null,
   "id": "recorded-project",
   "metadata": {
    "tags": [
     "remove-output",
     "hide-input"
    ]
   },
   "outputs": [],
   "source": []
  },
  {
   "cell_type": "markdown",
   "id": "first-panama",
   "metadata": {},
   "source": [
    "### Anisochronisme\n",
    "On se propose de déterminer la période des oscillations en fonction de l'amplitude des oscillations.  \n",
    "__Méthode choisie__ : On va déterminer les temps $t_{0i}$ successifs des points où la solution numérique pour $\\theta(t)$ s'annule (plus précisément les temps médians entre deux instants où le signal change de signe). Comme il n'y a que 2 annulations des angles dans une période (cf. étude des systèmes conservatifs), il suffira de compter le nombre $N_0$ de 0. La période $T$ du signal s'écrit alors :\n",
    "\n",
    "$$\n",
    "T = {t_{0N_0} - t_{01} \\over {N_0 - 1 \\over 2}}\n",
    "$$\n",
    "\n",
    "> __Exercice 4:__  \n",
    "> 1. Ecrire une fonction `periode` qui prend en arguments deux vecteurs de mêmes taille `tk` et `thetak` et qui renvoie la période du signal `thetak` en considérant les `tk` comme les temps associés.\n",
    "> 2. Tester votre fonction sur un signal intégré numériquement obtenu précédemment pour vérifier que vous trouvez bien la bonne période (prendre un cas de petites oscillations car vous connaissez alors la période).\n",
    "> 3. Comment choisir les conditions initiales pour que $\\theta_i$ soit l'amplitude des oscillations? Pour 49 valeurs comprises entre $\\pi/50$ et $49\\pi/50$, réaliser l'intégration numérique sans approximation et détermienr la période. Tracer alors la période en fonction de l'amplitude des oscillations."
   ]
  },
  {
   "cell_type": "code",
   "execution_count": null,
   "id": "indie-mongolia",
   "metadata": {
    "tags": [
     "remove-output",
     "hide-input"
    ]
   },
   "outputs": [],
   "source": []
  },
  {
   "cell_type": "markdown",
   "id": "accredited-spine",
   "metadata": {},
   "source": [
    "### Trajectoire de diffusion\n",
    "On s'intéresse au cas où le pendule part de sa position la plus basse avec une vitesse angulaire $\\omega_i$.\n",
    "La viteses angulaire initiale permettant au pendule (tige rigide) d'atteindre $\\pi$ et de s'y arrêter est :\n",
    "\n",
    "$$\n",
    "\\omega_{i,\\lim} = \\sqrt{\\frac{4g}{l}}\n",
    "$$\n",
    "En dessous, le pendule oscille. Au dessus, il fait des tours complets.\n",
    "\n",
    "> __Exercice 5 :__  \n",
    "> 1. Intégrer l'équation du pendule avec une valeur de $\\omega_i$ supérieure à à la valeur limite et observer l'allure de $\\theta(t)$ et $\\dot \\theta(t)$. Commenter.\n",
    "> 2. Intégrer l'équation du pendule avec la valeur de $\\omega_i$ limite précédente et observer l'allure de $\\theta(t)$ et $\\dot \\theta(t)$. Commenter. Reprendre avec une valeur de $\\omega_i$^très légèrement inférieure."
   ]
  },
  {
   "cell_type": "code",
   "execution_count": null,
   "id": "respective-validity",
   "metadata": {
    "tags": [
     "remove-output",
     "hide-input"
    ]
   },
   "outputs": [],
   "source": []
  }
 ],
 "metadata": {
  "jupytext": {
   "text_representation": {
    "extension": ".md",
    "format_name": "myst",
    "format_version": 0.13,
    "jupytext_version": "1.10.3"
   }
  },
  "kernelspec": {
   "display_name": "Python 3",
   "language": "python",
   "name": "python3"
  },
  "language_info": {
   "codemirror_mode": {
    "name": "ipython",
    "version": 3
   },
   "file_extension": ".py",
   "mimetype": "text/x-python",
   "name": "python",
   "nbconvert_exporter": "python",
   "pygments_lexer": "ipython3",
   "version": "3.9.2"
  },
  "source_map": [
   12,
   30,
   33,
   51,
   54,
   69,
   72,
   86
  ]
 },
 "nbformat": 4,
 "nbformat_minor": 5
}