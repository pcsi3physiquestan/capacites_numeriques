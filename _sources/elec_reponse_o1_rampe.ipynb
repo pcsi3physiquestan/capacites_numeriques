{
 "cells": [
  {
   "cell_type": "markdown",
   "id": "subjective-hundred",
   "metadata": {},
   "source": [
    "La page ci-présente existe en version notebook téléchargeable grâce au bouton ![Bouton](./images/bouton_tl.png) (choisir le format `.ipynb`). On rappelle qu'l faut ensuite l'enregistrer dans un répertoire adéquat sur votre ordinateur (`capa_num` par exemple dans votre répertoire personnel) puis lancer Jupyter Notebook depuis Anaconda pour accéder au notebook, le modifier et exécutez les cellules de code adéquates.\n",
    "\n",
    "# Réponse à une rampe de tension.\n",
    "\n",
    "## Fonctions utiles\n",
    "\n",
    "Pour l'intégration des équations différentielles, on utilisera directement `solve_ivp`.\n",
    "\n",
    "## Rampe de tension\n",
    "\n",
    "On étudie un circuit RC série soumis à une tension $E(t)$ :\n",
    "\n",
    "$$\n",
    "E(t) = \n",
    "\\begin{cases}\n",
    "0 & \\textrm{si t <= 0}\\\\\n",
    "t / T0 & \\textrm{si 0 < t <= T0}\\\\\n",
    "1 & \\textrm{si t > T0}\\\\\n",
    "\\end{cases}\n",
    "$$\n",
    "\n",
    "On prendra $R = 1\\rm{k\\Omega}; C = 1\\rm{\\mu F}; T0 = n \\times \\tau; u(t=0) = 0 \\rm{V}$.\n",
    "\n",
    "_Rappels :_\n",
    "* L'__énergie__ stockée dans un condensateur est $E_{el} = \\frac{1}{2}C u_c^2$\n",
    "* La __puissance__ dissipée par effet Joule est $P_J(t) = R i^2(t)$\n",
    "\n",
    "> __Exercice 6__\n",
    "> 1. Ecrire une fonction `rampe(t)` qui renvoie la valeur de `E(t)` pour un instant donné puis l'utiliser pour créer la fonction `f_rampe` du schéma d'Euler.\n",
    "> 1. Procéder à l'intégration de l'équation différentielle pour $n=2$ en choisissant un pas de calcul adapté.\n",
    "> 2. En déduire l'intensité circulant dans le condensateur, l'énergie stockée dans le condensateur (aux mêmes instants $t_k$), l'énergie dissipée par la résistance et l'énergie fournie par la source (entre t=0  et $t=t_k$).\n",
    "> 3. Représenter quatre graphiques dans une même fenêtre (2 lignes, 2 colonnes) représentant :\n",
    ">     * premier graphique : les tensions $E(t)$ et $u(t)$\n",
    ">     * deuxième graphique : l'intensité $i(t)$\n",
    ">     * troisième graphique ; le portrait de phase (ensemble des points de coordonnées ($u(t); \\frac{du}{dt}(t)$))\n",
    ">     * quatrième graphique ; l'évolution de l'énergie stockée dans le condensateur, celle délivrée par la source et celle dissipée par la résistance\n",
    "> 4. Analyser physiquement les courbes obtenues.\n",
    "> 5. Reprendre l'étude en augmentant $n$. On commentera notamment l'énergie dissipée par effet Joule.\n",
    "> 6. Quantifier l'évolution du rendement $\\eta = \\frac{E_{stockee}(+\\infty)}{E_{fournie}(+\\infty)}$ par rapport à $n$ par un tracé graphique adapté. On réfléchira à comment estimer $\\eta$ pour chaque valeur de $n$.\n",
    "\n",
    "_Pour étudier le rendement sur plusieurs décades entre $n=0.01$ et $n=1000$. Deux syntaxes utiles :_\n",
    "* `np.logspace(start, stop, N)` fonctionne comme `linspace` mais les points sont créés régulièrement sur un axe logarithmique entre $10^{start}$ et $10^{stop}$.\n",
    "* `ax.set_xscale('log')` permet de représenter les abscisses suivant une échelle logarithmique."
   ]
  },
  {
   "cell_type": "code",
   "execution_count": null,
   "id": "moderate-transsexual",
   "metadata": {},
   "outputs": [],
   "source": []
  }
 ],
 "metadata": {
  "jupytext": {
   "formats": "ipynb,md:myst,py:light",
   "text_representation": {
    "extension": ".md",
    "format_name": "myst",
    "format_version": 0.13,
    "jupytext_version": "1.10.3"
   }
  },
  "kernelspec": {
   "display_name": "Python 3",
   "language": "python",
   "name": "python3"
  },
  "language_info": {
   "codemirror_mode": {
    "name": "ipython",
    "version": 3
   },
   "file_extension": ".py",
   "mimetype": "text/x-python",
   "name": "python",
   "nbconvert_exporter": "python",
   "pygments_lexer": "ipython3",
   "version": "3.9.2"
  },
  "source_map": [
   13,
   58
  ]
 },
 "nbformat": 4,
 "nbformat_minor": 5
}