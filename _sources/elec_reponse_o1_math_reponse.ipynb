{
 "cells": [
  {
   "cell_type": "markdown",
   "id": "7e6ef7f9",
   "metadata": {},
   "source": [
    "La page ci-présente existe en version notebook téléchargeable grâce au bouton ![Bouton](./images/bouton_tl.png) (choisir le format `.ipynb`). On rappelle qu'il faut ensuite l'enregistrer dans un répertoire adéquat sur votre ordinateur (`capa_num` par exemple dans votre répertoire personnel) puis lancer Jupyter Notebook depuis Anaconda pour accéder au notebook, le modifier et exécutez les cellules de code adéquates.\n",
    "\n",
    "# Exemple d'implémentation basique\n",
    "\n",
    "## Implémentation"
   ]
  },
  {
   "cell_type": "code",
   "execution_count": 1,
   "id": "4969e846",
   "metadata": {
    "tags": [
     "hide-output"
    ]
   },
   "outputs": [
    {
     "ename": "NameError",
     "evalue": "name 'numpy' is not defined",
     "output_type": "error",
     "traceback": [
      "\u001b[1;31m---------------------------------------------------------------------------\u001b[0m",
      "\u001b[1;31mNameError\u001b[0m                                 Traceback (most recent call last)",
      "Cell \u001b[1;32mIn [1], line 5\u001b[0m\n\u001b[0;32m      2\u001b[0m \u001b[38;5;28;01mfrom\u001b[39;00m \u001b[38;5;21;01mmatplotlib\u001b[39;00m\u001b[38;5;21;01m.\u001b[39;00m\u001b[38;5;21;01mpyplot\u001b[39;00m \u001b[38;5;28;01mimport\u001b[39;00m \u001b[38;5;241m*\u001b[39m\n\u001b[0;32m      3\u001b[0m \u001b[38;5;28;01mfrom\u001b[39;00m \u001b[38;5;21;01mscipy\u001b[39;00m\u001b[38;5;21;01m.\u001b[39;00m\u001b[38;5;21;01mintegrate\u001b[39;00m \u001b[38;5;28;01mimport\u001b[39;00m odeint\n\u001b[1;32m----> 5\u001b[0m \u001b[38;5;28;01mdef\u001b[39;00m \u001b[38;5;21meuler\u001b[39m(f:callable, y0:\u001b[38;5;28mfloat\u001b[39m, t0: \u001b[38;5;28mfloat\u001b[39m, tf: \u001b[38;5;28mfloat\u001b[39m, pas:\u001b[38;5;28mfloat\u001b[39m) \u001b[38;5;241m-\u001b[39m\u001b[38;5;241m>\u001b[39m (\u001b[43mnumpy\u001b[49m\u001b[38;5;241m.\u001b[39mndarray, numpy\u001b[38;5;241m.\u001b[39mndarray):\n\u001b[0;32m      6\u001b[0m     tk \u001b[38;5;241m=\u001b[39m [t0]\n\u001b[0;32m      7\u001b[0m     yk \u001b[38;5;241m=\u001b[39m [y0]\n",
      "\u001b[1;31mNameError\u001b[0m: name 'numpy' is not defined"
     ]
    }
   ],
   "source": [
    "from numpy import *\n",
    "from matplotlib.pyplot import *\n",
    "from scipy.integrate import odeint\n",
    "\n",
    "def euler(f:callable, y0:float, t0: float, tf: float, pas:float) -> (numpy.ndarray, numpy.ndarray):\n",
    "    tk = [t0]\n",
    "    yk = [y0]\n",
    "    while tk[-1] < tf:\n",
    "        yk.append(yk[-1] + f(tk[-1], yk[-1]) * pas)\n",
    "        tk.append(tk[-1] + pas)\n",
    "    return array(tk), array(yk)"
   ]
  },
  {
   "cell_type": "markdown",
   "id": "3961f506",
   "metadata": {},
   "source": [
    "## Utilisation"
   ]
  },
  {
   "cell_type": "code",
   "execution_count": null,
   "id": "2f62bce5",
   "metadata": {},
   "outputs": [],
   "source": [
    "def f(t, y):\n",
    "    return - sin(t) * y + 2\n",
    "\n",
    "y0 = 0\n",
    "t0 = 0\n",
    "tf= 10\n",
    "pas = 0.1\n",
    "tk , yk = euler(f, y0, t0, tf, pas)\n",
    "plot(tk, yk)\n",
    "\n",
    "yk2 = odeint(f, [y0], tk, tfirst=True)\n",
    "plot(tk, yk2)"
   ]
  },
  {
   "cell_type": "markdown",
   "id": "dc8968e6",
   "metadata": {},
   "source": [
    "_On remarquera une légère différence car `odeint` utilise une méthode plus précise. Cette différence s'estompe avec un pas pus faible (cf. suite)_"
   ]
  },
  {
   "cell_type": "code",
   "execution_count": null,
   "id": "ee065eec",
   "metadata": {},
   "outputs": [],
   "source": [
    "pas = 0.001\n",
    "tk , yk = euler(f, y0, t0, tf, pas)\n",
    "plot(tk, yk)\n",
    "\n",
    "# Résolution avec odeint\n",
    "yk2 = odeint(f, [y0], tk, tfirst=True)\n",
    "plot(tk, yk2)"
   ]
  },
  {
   "cell_type": "code",
   "execution_count": null,
   "id": "faa46124",
   "metadata": {},
   "outputs": [],
   "source": [
    "t, y = linspace(min(tk),max(tk),20), linspace(min(yk),max(yk),20)\n",
    "tgrid, ygrid = meshgrid(t, y)\n",
    "quiver(tgrid, ygrid, ones((len(t), len(y))), f(tgrid,  ygrid), angles='xy')\n",
    "plot(tk, yk)"
   ]
  },
  {
   "cell_type": "markdown",
   "id": "a29856ce",
   "metadata": {},
   "source": [
    "_Les \"flèches\" représentent la valeur de $f$, dont bien la pente puisqu'il s'agit de la dérivée._"
   ]
  },
  {
   "cell_type": "code",
   "execution_count": null,
   "id": "240a6dd4",
   "metadata": {},
   "outputs": [],
   "source": [
    "# avec solve_ivp\n",
    "from scipy.integrate import solve_ivp\n",
    "pas = 0.001\n",
    "tk , yk = euler(f, y0, t0, tf, pas)\n",
    "plot(tk, yk)\n",
    "\n",
    "tks = arange(t0, tf, pas)\n",
    "# Résolution avec odeint\n",
    "yk2 = solve_ivp(f, (t0, tf), [y0], t_eval=tks)\n",
    "plot(tks, yk2['y'][0])"
   ]
  }
 ],
 "metadata": {
  "jupytext": {
   "formats": "ipynb,md:myst,py:light",
   "text_representation": {
    "extension": ".md",
    "format_name": "myst",
    "format_version": 0.13,
    "jupytext_version": "1.10.3"
   }
  },
  "kernelspec": {
   "display_name": "Python 3",
   "language": "python",
   "name": "python3"
  },
  "language_info": {
   "codemirror_mode": {
    "name": "ipython",
    "version": 3
   },
   "file_extension": ".py",
   "mimetype": "text/x-python",
   "name": "python",
   "nbconvert_exporter": "python",
   "pygments_lexer": "ipython3",
   "version": "3.9.15"
  },
  "source_map": [
   13,
   19,
   32,
   35,
   48,
   52,
   62,
   67,
   72
  ]
 },
 "nbformat": 4,
 "nbformat_minor": 5
}