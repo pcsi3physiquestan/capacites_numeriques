{
 "cells": [
  {
   "cell_type": "markdown",
   "id": "greatest-creek",
   "metadata": {},
   "source": [
    "# Analyse spectrale d'un signal\n",
    "_Méthodes numériques_\n",
    "\n",
    "Dans cette séance, vous allez apprendre à :\n",
    "* Utiliser les objets Python comme les vecteurs numpy et réaliser des tracés graphiques.\n",
    "* Créer des fonctions Python et utiliser des boucles.\n",
    "* Créer une fonction qui construit numériquement l'allure d'un signal temporel à partir de son spectre.\n",
    "* Obtenir le spectre d'un signal grâce à des fonctions natives de la bibliothèques `numpy.fft`"
   ]
  },
  {
   "cell_type": "markdown",
   "id": "toxic-tractor",
   "metadata": {},
   "source": [
    "## Position du problème\n",
    "\n",
    "(theoriques)=\n",
    "### Eléments théoriques\n",
    "On rappelle que le __spectre__ d'un signal est sa décomposition en somme de sinusoïdes où l'on donne : la _fréquence_ ($f_i$), l'_amplitude_ $(A_i)$ et la _phase à l'origine_ ($\\phi_i$) de chaque sinusoïde de la décomposition :\n",
    "\n",
    "$$\n",
    "s(t) = \\sum_{i} A_i \\cos \\left ( 2 \\pi f_i t + \\phi_i \\right )\n",
    "$$\n",
    "\n",
    "_Pour rappel, pour les signaux périodiques, la somme est infinie et les fréquences $f_i$ sont des multiples de la fréquence $f$ du signal._\n",
    "\n",
    "### Réflexions préliminéaires\n",
    "\n",
    "__But :__ On veut pouvoir représenter un signal de deux manières :\n",
    "* son allure temporelle représentée mathématiquement par la fonction $x(t)$ évaluée sur un intervalle $[t_1, t_2]$\n",
    "* son spectre représenté par l'ensemble des triplets $(f_i, A_i, \\phi_i)$ de sa décomposition\n",
    "\n",
    "__Travail (5 minutes) :__ Réfléchir au(x) type(s) de variable(s) qui permettent, sous `Python` de stocker la représentation de l'allure temporelle (l'intervalle $[t_1, t_2]$ et les valeurs de x sur cet intervalle) et à leur structure puis au(x) type(s) de variable(s) qui permettent de stocker la représentation du spectre d'un signal _(on supposera la somme finie, quitte à limiter la somme à N fréquences dans le cas de sommes infinies)_.\n",
    "\n",
    "__Après avoir réfléchi à la question précédente__, passer à la suite qui propose une représentation temporelle et fréquentielle sous Python."
   ]
  },
  {
   "cell_type": "markdown",
   "id": "infinite-variation",
   "metadata": {},
   "source": [
    "### Représentation des signaux\n",
    "\n",
    "#### Représentation temporelle\n",
    "Dans un calcul numérique, l'évaluation de la fonction (pour sont tracé par exemple) ne peut être fait que pour des __valeurs discrètes__. On va donc définir pour un signal $s(t)$ dont on connaît la fonction temporelle $s$ :\n",
    "1. Une fonction qui associe à une valeur de temps $t_k$ la valeur calculée $s(t_k)$.\n",
    "2. Un vecteur numpy contenant des valeurs d'abscisses temporelles $t_i$ régulièrement réparties entre deux valeurs choisies $t_1$ et $t_2$ et de longueur $N$.\n",
    "3. Un vecteur numpy contenant les valeurs du signal $s_i$ aux instants $t_i$ : $s_k = s(t_k)$.\n",
    "\n",
    "On pourra alors tracer le signal temporel ou obtenir son spectre grâce aux fonctions natives de `numpy.fft`\n",
    "\n",
    "#### Représentation fréquentielle.\n",
    "Il y a une série de trois grandeurs, on va donc représenter le spectre d'un signal par trois vecteurs :\n",
    "* un contenant les fréquences $f_i$ de la décomposition\n",
    "* un contenant les amplitudes $A_i$ de la décomposition\n",
    "* un contenant les phases à l'origine $\\phi_i$ de la décomposition\n",
    "\n",
    "On pourra alors reconstruire la fonction $s(t)$ comme donnée précédemment et ainsi visualiser son allure temporelle. On pourra aussi représenter le spectre du signal.\n",
    "\n",
    "On réfléchira aux listes des m premiers éléments des décompositions spectrales des signaux créneaux et triangulaires (de fréquence $f_0$) données ci-dessous :\n",
    "\n",
    "$$\n",
    "s_{creneau} = \\sum_{i=1}^{m} {4 \\over \\pi (2i + 1)}\\ \\sin \\left ( 2 \\pi (2i + 1) f_0 t \\right)\n",
    "$$\n",
    "\n",
    "$$\n",
    "s_{triangle} = \\sum_{i=1}^{m} {8 \\over {\\left (\\pi (2i + 1)\\right)}^2}\\ \\sin \\left ( 2 \\pi (2i + 1) f_0 t \\right)\n",
    "$$"
   ]
  }
 ],
 "metadata": {
  "jupytext": {
   "encoding": "# -*- coding: utf-8 -*-",
   "formats": "ipynb,py:light",
   "text_representation": {
    "extension": ".md",
    "format_name": "myst",
    "format_version": 0.13,
    "jupytext_version": "1.10.3"
   }
  },
  "kernelspec": {
   "display_name": "Python 3",
   "language": "python",
   "name": "python3"
  },
  "language_info": {
   "codemirror_mode": {
    "name": "ipython",
    "version": 3
   },
   "file_extension": ".py",
   "mimetype": "text/x-python",
   "name": "python",
   "nbconvert_exporter": "python",
   "pygments_lexer": "ipython3",
   "version": "3.9.2"
  },
  "source_map": [
   14,
   25,
   49
  ]
 },
 "nbformat": 4,
 "nbformat_minor": 5
}