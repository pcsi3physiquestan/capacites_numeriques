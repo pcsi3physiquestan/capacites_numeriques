{
 "cells": [
  {
   "cell_type": "markdown",
   "id": "fancy-communications",
   "metadata": {},
   "source": [
    "La page ci-présente existe en version notebook téléchargeable grâce au bouton ![Bouton](./images/bouton_tl.png) (choisir le format `.ipynb`). On rappelle qu'l faut ensuite l'enregistrer dans un répertoire adéquat sur votre ordinateur (`capa_num` par exemple dans votre répertoire personnel) puis lancer Jupyter Notebook depuis Anaconda pour accéder au notebook, le modifier et exécutez les cellules de code adéquates.\n",
    "\n",
    "# Système conservatif : Effets non linéaires.\n",
    "\n",
    "__But :__  résoudre numériquement une équation différentielle du deuxième ordre non-linéaire et faire apparaître l’effet des termes non-linéaires."
   ]
  },
  {
   "cell_type": "markdown",
   "id": "religious-document",
   "metadata": {},
   "source": [
    "## Position du problème\n",
    "Nous allons chercher à résoudre numériquement l'équation d'évolution traduisant la vibration d'une molécule HCl. La différence de masse des deux atomes permet de supposer que l'atome de chlore est immobile. On travaillera donc dans son référentiel qu'on supposera galiléen. On suppose le mouvement de l'atome d'hydrogène rectiligne suivant un axe Ox (O étant la position du chlore)\n",
    "\n",
    "Le système HCl est supposé isolé. On suppose que l'interaction intramoléculaire est modélisée par l'énergie potentielle :\n",
    "\n",
    "$$\n",
    "E_p = {C \\over r^n} - \\alpha {e^2 \\over 4\\pi \\epsilon_0 r}\n",
    "$$\n",
    "\n",
    "avec : $C = 2.2 \\times 10^{-138} J.m^{12}; \\alpha = 0.40; n = 12; \\epsilon_0 = 8.85 \\times 10^{-12} SI; e=1.6\\times 10^{-19}C$\n",
    "\n",
    "et la masse de l'hydrogène : $m_H = 1.0 \\times 10^{-27} kg$\n",
    "\n",
    "Pour éviter de traiter des puissances trop importantes, on va changer les unités d'étude : la __masse__ sera en _unité de masse atomique_, les __distances__ en _Angstrom_, les __charges__ en nombre de fois _la charge élémentaire_ et  les __temps__ en _femtosecondes_. Les constantes précédentes prennent alors les valeurs suivantes (UA = Unité arbitraire):\n",
    "\n",
    "$C = 1.4 \\times 10^{-1} (UA); \\alpha = 0.40; n = 12; \\epsilon_0 = 3.45 \\times 10^{-1} (UA); e=1 (UA); m_H = 1 (UA)$\n",
    "\n",
    "De plus, 1 unité arbitraire d'énergie dans les résultats obtenus correspond à $100\\rm{eV} = 1.6 \\times 10^{-17} \\rm{J}$ et 1 unité arbitraire de force correspond à $0.62 \\times 10^{7} \\rm{N}$"
   ]
  },
  {
   "cell_type": "markdown",
   "id": "promotional-pottery",
   "metadata": {},
   "source": [
    "### Etude de l'énergie potentielle.\n",
    "\n",
    "> __Exercice 1__ :  \n",
    "> Vous devez :\n",
    "> 1. Ecrire une fonction `Ep` qui prend comme argument une distance `r` et qui renvoie l'énergie potentielle associée. _Il est conseillé d'enregistrer les variables C, alpha... comme des variables globales._\n",
    "> 2. Ecrire une fonction `force` qui prend comme argument une valeur `x` et `pas` et qui renvoie la valeur de la force : $F = - \\frac{dE_p}{dr}$ estimée en `x` par dérivation numérique en utilisant le pas `pas`.\n",
    "> 3. Tracer $E_p(r)$ et $F(r)$ pour $r$ entre 1 et 10 Angstrom.\n",
    "> 3. Déterminer, par une recherche de 0 par dichotomie, la distance `rE` correspondant à la position d'équilibre de la molécule avec une tolérance de $10^{-4} \\mathring{A}$.\n",
    "\n",
    "__Utiliser la notation scientifique 4e-4 pour entrer la valeur numérique $4\\times 10^{-4}$.__"
   ]
  },
  {
   "cell_type": "code",
   "execution_count": 1,
   "id": "bound-silence",
   "metadata": {},
   "outputs": [
    {
     "data": {
      "text/plain": [
       "\"\\nN'oubliez pas les bibliothèques scientifiques \\net pensez à commenter votre code.\\n\""
      ]
     },
     "execution_count": 1,
     "metadata": {},
     "output_type": "execute_result"
    }
   ],
   "source": [
    "\"\"\"\n",
    "N'oubliez pas les bibliothèques scientifiques \n",
    "et pensez à commenter votre code.\n",
    "\"\"\""
   ]
  },
  {
   "cell_type": "markdown",
   "id": "alive-chapter",
   "metadata": {},
   "source": [
    "## Schéma d'Euler pour un équation d'ordre 2\n",
    "\n",
    "On rappelle le principe, on utilise deux fonctions inconnues :\n",
    "\n",
    "$$\n",
    "Y = \\begin{pmatrix}\n",
    "x(t)\\\\\n",
    "v(t)\n",
    "\\end{pmatrix}\n",
    "$$\n",
    "\n",
    "On a alors la relation :\n",
    "\n",
    "$$\n",
    "{\\rm{d} \\over \\rm{dt}} Y\n",
    "=\n",
    "{\\rm{d} \\over \\rm{dt}}\n",
    "\\begin{pmatrix}\n",
    "x(t)\\\\\n",
    "v(t)\n",
    "\\end{pmatrix}\n",
    "=\n",
    "\\begin{pmatrix}\n",
    "v(t)\\\\\n",
    "{\\sum F_{ext}(t, Y) \\over m} = f(t, Y)\n",
    "\\end{pmatrix}\n",
    "$$\n",
    "\n",
    "On peut alors implémenter le schéma d'Euler explicite sur le vecteur précédent :\n",
    "\n",
    "$$\n",
    "Y_{k+1} =\n",
    "\\begin{pmatrix}\n",
    "x_{k+1}\\\\\n",
    "v_{k+1}\n",
    "\\end{pmatrix}\n",
    "=\n",
    "\\begin{pmatrix}\n",
    "x_{k} + h \\times v_k\\\\\n",
    "v_k + h \\times f(t, Y)\n",
    "\\end{pmatrix}\n",
    "$$\n",
    "\n",
    "où $h$ est le pas d'intégration."
   ]
  },
  {
   "cell_type": "markdown",
   "id": "speaking-albert",
   "metadata": {},
   "source": [
    "> __Exercice 2__:\n",
    "> 1. Préciser l'expression de $f(t,Y(t))$ pour notre système et définir une fonction `f_hcl(t,Y)` qui renvoie cette expression."
   ]
  },
  {
   "cell_type": "code",
   "execution_count": 2,
   "id": "geographic-darkness",
   "metadata": {
    "tags": [
     "remove-output",
     "hide-input"
    ]
   },
   "outputs": [
    {
     "data": {
      "text/plain": [
       "'\\nPensez à réutiliser les fonctions déjà définies.\\n'"
      ]
     },
     "execution_count": 2,
     "metadata": {},
     "output_type": "execute_result"
    }
   ],
   "source": [
    "\"\"\"\n",
    "Pensez à réutiliser les fonctions déjà définies.\n",
    "\"\"\""
   ]
  },
  {
   "cell_type": "markdown",
   "id": "analyzed-demographic",
   "metadata": {},
   "source": [
    "## Application à l'étude de la vibration\n",
    "\n",
    "### Effets de non linéarité\n",
    "Le but est d'observer les vibrations de la molécule autour de sa position d'équilibre pour :\n",
    "* une vibration de très faible amplitude : $(r - r_E) = 0.01 r_E$\n",
    "* une vibration plus importante : $(r - r_E) = 0.2 r_E$\n",
    "\n",
    "On cherchera à observer par les tracés temporelles et le portrait de phase (tracé des points $(r(t), \\frac{\\rm{d}r}{\\rm{dt}}(t))$) si l'approximation linéaire de l'équation pourrait être valable et quelle sont les effets de non linéarité. _Note : pour un oscillateur harmonique, on attend une ellipse pour le portrait de phase__.\n",
    "\n",
    "> __Exercice 3:__  \n",
    "> Vous devez :\n",
    "> 1. Définir une fonction `Ec(v)` qui renvoient l'énergie cinétique du système pour une vitesse donnée.\n",
    "> 2. Utiliser `odeint` pour obtenir les temps $t_k$, positions $x(t_k)$ et vitesses $v(t_k)$ pour les deux cas étudiées puis les énergies potentielles $E_p(t_k)$, énergie cinétique $E_c(t_k)$ et énergie mécanique $E_m(t_k)$ aux temps $t_k$.\n",
    "> 3. Tracer alors une fenêtre avec 4 graphiques : l'un donnant $x(t)$, le second $v(t)$, le troisième le portrait de phase $v(x)$ et le quatrième l'évolution des 3 termes énergétiques $E_p(t), E_c(t), E_m(t)$. _Adapter le pas d'intégration pour une intégration correcte._\n",
    "> 5. Observer si ces évolutions sont cohérentes avec l'approximation linéaire et sinon quelles sont les différences."
   ]
  },
  {
   "cell_type": "code",
   "execution_count": 3,
   "id": "exotic-montgomery",
   "metadata": {
    "tags": [
     "remove-output",
     "hide-input"
    ]
   },
   "outputs": [
    {
     "data": {
      "text/plain": [
       "\"Ne pas oublier d'importer la fonction odeint\""
      ]
     },
     "execution_count": 3,
     "metadata": {},
     "output_type": "execute_result"
    }
   ],
   "source": [
    "\"\"\"Ne pas oublier d'importer la fonction odeint\"\"\""
   ]
  },
  {
   "cell_type": "markdown",
   "id": "proud-enhancement",
   "metadata": {},
   "source": [
    "## Trajectoire de diffusion\n",
    "> __Exercice 5:__  \n",
    "> 1. Comment choisir les conditions initiales pour placer l'hydrogène dans un état de diffusion ?\n",
    "> 2. Réaliser l'intégration numérique dans ces conditions et déterminer numériquement l'énergie cinétique à l'infini. Obtient-on ce qu'on attend ?"
   ]
  },
  {
   "cell_type": "code",
   "execution_count": null,
   "id": "advisory-services",
   "metadata": {},
   "outputs": [],
   "source": []
  }
 ],
 "metadata": {
  "jupytext": {
   "encoding": "# -*- coding: utf-8 -*-",
   "formats": "ipynb,py:light,md:myst",
   "text_representation": {
    "extension": ".md",
    "format_name": "myst",
    "format_version": 0.13,
    "jupytext_version": "1.10.3"
   }
  },
  "kernelspec": {
   "display_name": "Python 3",
   "language": "python",
   "name": "python3"
  },
  "language_info": {
   "codemirror_mode": {
    "name": "ipython",
    "version": 3
   },
   "file_extension": ".py",
   "mimetype": "text/x-python",
   "name": "python",
   "nbconvert_exporter": "python",
   "pygments_lexer": "ipython3",
   "version": "3.9.2"
  },
  "source_map": [
   14,
   21,
   41,
   54,
   59,
   106,
   111,
   116,
   134,
   138,
   145
  ]
 },
 "nbformat": 4,
 "nbformat_minor": 5
}