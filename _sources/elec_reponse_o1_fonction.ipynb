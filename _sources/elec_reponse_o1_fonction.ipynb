{
 "cells": [
  {
   "cell_type": "markdown",
   "id": "fifteen-royalty",
   "metadata": {},
   "source": [
    "La page ci-présente existe en version notebook téléchargeable grâce au bouton ![Bouton](./images/bouton_tl.png) (choisir le format `.ipynb`). On rappelle qu'l faut ensuite l'enregistrer dans un répertoire adéquat sur votre ordinateur (`capa_num` par exemple dans votre répertoire personnel) puis lancer Jupyter Notebook depuis Anaconda pour accéder au notebook, le modifier et exécutez les cellules de code adéquates.\n",
    "\n",
    "# Utilisation de la bibliothèque scipy\n",
    "\n",
    "## Définition des fonctions pour le schéma d'Euler\n",
    "On va commencer par définir la fonction $f(t,y)$ pour les deux types d'étude : le régime libre et l'échelon de tension.\n",
    "\n",
    "__Attention : Même si $f$ ne dépend pas explicitement du temps, on gardera $t$ comme argument de la fonction car cet argument est nécessaire quand on utilise les fonctions natives de `numpy` pour intégrer une équation différentielle.__\n",
    "\n",
    "> __Exercice A__  \n",
    "> Dans la cellule ci-après, vous devez:\n",
    "> 1. Importer les deux bibliothèques `numpy` et `matplotlib.pyplot`\n",
    "> 2. Créer deux fonction `f_libre` et `f_echelon` prenant deux arguments `t` et `u` (correspondant à un instant $t_k$ et à $u_k = u(u_k)$) et qui renvoie la valeur $f(t_k, u_k)$ pour chaque cas (régime libre et échelon de tension) (u est la tension aux bornes du condensateur comme dans l'étude présentée dans l'[exemple](pospb)). _Vous pouvez définir $R,C$ et $\\tau$ comme des variables globales que vous utilisez dans les fonctions._"
   ]
  },
  {
   "cell_type": "code",
   "execution_count": 1,
   "id": "global-bennett",
   "metadata": {
    "tags": [
     "hide-input",
     "remove-output"
    ]
   },
   "outputs": [
    {
     "data": {
      "text/plain": [
       "\"Ne pas oublier d'importer les bibliothèques scientifiques et d'éxécuter la cellule.\""
      ]
     },
     "execution_count": 1,
     "metadata": {},
     "output_type": "execute_result"
    }
   ],
   "source": [
    "\"\"\"Ne pas oublier d'importer les bibliothèques scientifiques et d'éxécuter la cellule.\"\"\""
   ]
  },
  {
   "cell_type": "markdown",
   "id": "assigned-deviation",
   "metadata": {},
   "source": [
    "## Solve_ivp\n",
    "La fonction `solve_ivp` appartient à la bibliothèque `scipy.integrate`, sa signature est la suivante:\n",
    "\n",
    "```\n",
    "solve_ivp(f:callable, t_span:tuple, y0:nd.array, t_eval=t_eval:nd.array) -> dict\n",
    "```\n",
    "* Arguments :\n",
    "    * `f` est la fonction du schéma d'Euler définie précédemment\n",
    "    * `t_span` est un tuple de élément `(t0, tf)` donnant l'instant initial et l'instant final de l'intégration.\n",
    "    * `y0` est __un vecteur numpy__ (ou une liste classique) contenant les conditions initiales. Ceci __même quand il n'y a qu'une condition initiale.__\n",
    "    * `t_eval` (argument optionnel donc impératif de le nommer `t_eval = ...`) est un vecteur numpy contenant les instants $t_k$ où l'on veut estimer la fonction solution. Même s'il est optionnel, il faudra toujours le donner.\n",
    "* Retour :\n",
    "    * Un __dictionnaire__ dont les clés _utiles_ sont:\n",
    "        * `dict['t']`: les instants $t_k$ (donc l'argument de `t_eval`...)\n",
    "        * `dict['y']`: un __tableau__ numpy contenant à chaque ligne la solution $y_k = y(t_k)$. Comme il n'y a qu'une seule ligne pour une équation différentielle de degré 1, on obtiendra les $y_k$ par `dict['y'][0]`\n",
    "### Cas du régime libre\n",
    "\n",
    "\n",
    "> __Exercice B__ : Avec une boucle for  \n",
    "> 1. Définir un vecteur numpy contenant les instants $t_k$.\n",
    "> 2. Utiliser la fonction `solve_ivp` pour intégrer l'équation dans le cas d'un régime libre puis tracer $y_k$ en fonction $t_k$ avec les avoir extraits du dictionnaire renvoyé par la fonction.\n",
    "> 3. Le comparer graphiquement à la solution analytique donnée ci-dessous.\n",
    "\n",
    "On rappelle que la solution analytique est:\n",
    "\n",
    "$$\n",
    "y(t) = y_0 \\exp^{- t / \\tau}\n",
    "$$\n",
    "_Note : Certaines étapes pourraient être raffinées (création du vecteur temps par exemple)._"
   ]
  },
  {
   "cell_type": "code",
   "execution_count": 2,
   "id": "employed-allocation",
   "metadata": {
    "tags": [
     "hide-input",
     "remove-output"
    ]
   },
   "outputs": [],
   "source": [
    "# On rappelle que la fonction f_libre est accessible et que les bibliothèques scientifiques ont été créés."
   ]
  },
  {
   "cell_type": "markdown",
   "id": "minor-blanket",
   "metadata": {},
   "source": [
    "### Cas de la réponse à un échelon de tension.\n",
    "> __Exercice C__ : Avec une boucle for  \n",
    "> 1. Définir un vecteur numpy contenant les instants $t_k$.\n",
    "> 2. Utiliser la fonction `solve_ivp` pour intégrer l'équation dans le cas de la réponse à un échelon de tension puis tracer $y_k$ en fonction $t_k$ avec les avoir extraits du dictionnaire renvoyé par la fonction.\n",
    "> 3. Le comparer graphiquement à la solution analytique donnée ci-dessous.\n",
    "\n",
    "On rappelle que la solution analytique est:\n",
    "\n",
    "$$\n",
    "y(t) = E(1 -  \\exp^{- t / \\tau})\n",
    "$$"
   ]
  },
  {
   "cell_type": "code",
   "execution_count": null,
   "id": "attractive-indiana",
   "metadata": {
    "tags": [
     "hide-input",
     "remove-output"
    ]
   },
   "outputs": [],
   "source": []
  }
 ],
 "metadata": {
  "jupytext": {
   "formats": "ipynb,md:myst,py:light",
   "text_representation": {
    "extension": ".md",
    "format_name": "myst",
    "format_version": 0.13,
    "jupytext_version": "1.10.3"
   }
  },
  "kernelspec": {
   "display_name": "Python 3",
   "language": "python",
   "name": "python3"
  },
  "language_info": {
   "codemirror_mode": {
    "name": "ipython",
    "version": 3
   },
   "file_extension": ".py",
   "mimetype": "text/x-python",
   "name": "python",
   "nbconvert_exporter": "python",
   "pygments_lexer": "ipython3",
   "version": "3.9.2"
  },
  "source_map": [
   13,
   28,
   31,
   63,
   66,
   80
  ]
 },
 "nbformat": 4,
 "nbformat_minor": 5
}