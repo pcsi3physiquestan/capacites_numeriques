{
 "cells": [
  {
   "cell_type": "markdown",
   "id": "02dca04f",
   "metadata": {},
   "source": [
    "La page ci-présente existe en version notebook téléchargeable grâce au bouton ![Bouton](./images/bouton_tl.png) (choisir le format `.ipynb`). On rappelle qu'l faut ensuite l'enregistrer dans un répertoire adéquat sur votre ordinateur (`capa_num` par exemple dans votre répertoire personnel) puis lancer Jupyter Notebook depuis Anaconda pour accéder au notebook, le modifier et exécutez les cellules de code adéquates.\n",
    "\n",
    "(deriv_int_fn)=\n",
    "# Utilisation de fonctions\n",
    "\n",
    "Par la suite, on sera amené à réutiliser l'intégration et la dérivation numérique sur des vecteurs de valeurs comme réalisée dans [la dernière partie](cas_exp). On va donc écrire deux fonctions `deriv` et `integ` qui vont réaliser respectivement :\n",
    "* la dérivation numérique d'une fonction $f$ donnée par un vecteur de valeurs `yk` et les instants de mesure `tk`: calcul des $f'(t_k)$\n",
    "* la primitivation numérique d'une fonction $f$ donnée par un vecteur de valeurs `yk` et les instants de mesure `tk`: calcul des $I_k = \\int_{t_0}^{t_k} f(t) dt$\n",
    "\n",
    "\n",
    "On testera les deux fonctions grâce aux fichier de données utilisé [précédemment](https://github.com/pcsi3physiquestan/donnees_exp/blob/main/circuit_rc.dat?raw=true)\n",
    "\n",
    "## Création des fonctions\n",
    "> __Exercice 1:__  \n",
    "> 1. Ecrire une fonction `deriv(x,y)` qui prend comme argument deux vecteur `x` et `y` contenant le même nombre de valeur et qui renvoie le calcul de la dérivée pour chaque abscisse $x_k$ de `x` de la fonction $f$ qui aurait les valeurs $y_k = f(x_k)$ (les $y_k$ sont les éléments de `y`). Comme [précédement](cas_exp), on réalisera une dérivation centrée sauf en $x_0$ (dérivation à droite) et en $x_{finale}$ (dérivation à gauche).\n",
    "> 2. Ecrire une fonction `inter(x,y)` qui prend comme argument deux vecteur `x` et `y` contenant le même nombre de valeur et qui renvoie le calcul des intégrales $I_k = \\int_{x_0}^{x_k} f(x) dx$ pour chaque abscisse $x_k$ de `x` où la fonction $f$ aurait les valeurs $y_k = f(x_k)$ (les $y_k$ sont les éléments de `y`). Comme [précédement](cas_exp), on réalisera une intégration par la méthode des trapèzes."
   ]
  },
  {
   "cell_type": "code",
   "execution_count": null,
   "id": "5c9aa644",
   "metadata": {
    "tags": [
     "remove-output",
     "hide-input"
    ]
   },
   "outputs": [],
   "source": []
  },
  {
   "cell_type": "markdown",
   "id": "3ec598a2",
   "metadata": {},
   "source": [
    "## Test des fonctions\n",
    "\n",
    "> __Exercice 2:__  \n",
    "> 1. Charger comme [précédemment](cas_exp) les données dans deux vecteurs `tk` et `ukb` puis obtenir les valeurs de tension en volt dans un vecteur `uk`\n",
    "> 2. Utiliser les fonctions `deriv` et `integ` créés précédemment pour obtenir $i(t)$ et $E_J(t)$ puis les tracer."
   ]
  },
  {
   "cell_type": "code",
   "execution_count": null,
   "id": "f7baaf1d",
   "metadata": {
    "tags": [
     "remove-output",
     "hide-input"
    ]
   },
   "outputs": [],
   "source": []
  }
 ],
 "metadata": {
  "jupytext": {
   "formats": "ipynb,md:myst,py:light",
   "text_representation": {
    "extension": ".md",
    "format_name": "myst",
    "format_version": 0.13,
    "jupytext_version": "1.10.3"
   }
  },
  "kernelspec": {
   "display_name": "Python 3",
   "language": "python",
   "name": "python3"
  },
  "language_info": {
   "codemirror_mode": {
    "name": "ipython",
    "version": 3
   },
   "file_extension": ".py",
   "mimetype": "text/x-python",
   "name": "python",
   "nbconvert_exporter": "python",
   "pygments_lexer": "ipython3",
   "version": "3.7.12"
  },
  "source_map": [
   13,
   31,
   34,
   42
  ]
 },
 "nbformat": 4,
 "nbformat_minor": 5
}