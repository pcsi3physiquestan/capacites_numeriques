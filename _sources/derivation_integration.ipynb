{
 "cells": [
  {
   "cell_type": "markdown",
   "id": "retired-revelation",
   "metadata": {},
   "source": [
    "# Dérivation et intégration numérique\n",
    "\n",
    "Les méthodes de dérivation et d'intégration numérique sont basées sur la définition même de ces concepts mais sans le passage à la limite.\n",
    "\n",
    "## Dérivation numérique.\n",
    "\n",
    "### Principe\n",
    "> Rappel : Soit une fonction $f$ définie et dérivable en $x_0$. Le nombre dérivée de $f$ en $x_0$ est:\n",
    "> \n",
    "> $$ f'(x_0) = \\lim_{h \\to 0} \\frac{f(x_0 + h) - f(x_0)}{h}$$\n",
    "\n",
    "L'idée de la dérivation numérique est d'approcher le nombre de dérivée $f'(x_0)$ par le calcul du taux de variation précédent pour un un $h$ non nul (on approxime donc géométriquement la tangente par la corde):\n",
    "\n",
    "$$ f'(x_0) \\approx \\frac{f(x_0 + h) - f(x_0)}{h}$$\n",
    "\n",
    "### Type de calcul\n",
    "On distingue trois façon de calcul un nombre dérivé:"
   ]
  },
  {
   "cell_type": "code",
   "execution_count": 1,
   "id": "thousand-chest",
   "metadata": {
    "tags": [
     "remove-input",
     "remove-output"
    ]
   },
   "outputs": [
    {
     "ename": "TypeError",
     "evalue": "set_ticks() got an unexpected keyword argument 'labels'",
     "output_type": "error",
     "traceback": [
      "\u001b[0;31m---------------------------------------------------------------------------\u001b[0m",
      "\u001b[0;31mTypeError\u001b[0m                                 Traceback (most recent call last)",
      "\u001b[0;32m<ipython-input-1-514f8dffbb4f>\u001b[0m in \u001b[0;36m<module>\u001b[0;34m\u001b[0m\n\u001b[1;32m     20\u001b[0m \u001b[0max\u001b[0m\u001b[0;34m.\u001b[0m\u001b[0mplot\u001b[0m\u001b[0;34m(\u001b[0m\u001b[0my\u001b[0m\u001b[0;34m,\u001b[0m \u001b[0mx\u001b[0m\u001b[0;34m,\u001b[0m \u001b[0mlinewidth\u001b[0m\u001b[0;34m=\u001b[0m\u001b[0;36m1.3\u001b[0m\u001b[0;34m,\u001b[0m \u001b[0mcolor\u001b[0m\u001b[0;34m=\u001b[0m\u001b[0;34m\"blue\"\u001b[0m\u001b[0;34m)\u001b[0m\u001b[0;34m\u001b[0m\u001b[0;34m\u001b[0m\u001b[0m\n\u001b[1;32m     21\u001b[0m \u001b[0max\u001b[0m\u001b[0;34m.\u001b[0m\u001b[0mplot\u001b[0m\u001b[0;34m(\u001b[0m\u001b[0myd\u001b[0m\u001b[0;34m,\u001b[0m \u001b[0mxd\u001b[0m\u001b[0;34m,\u001b[0m \u001b[0mlinewidth\u001b[0m\u001b[0;34m=\u001b[0m\u001b[0;36m1\u001b[0m\u001b[0;34m,\u001b[0m \u001b[0mcolor\u001b[0m\u001b[0;34m=\u001b[0m\u001b[0;34m\"red\"\u001b[0m\u001b[0;34m)\u001b[0m\u001b[0;34m\u001b[0m\u001b[0;34m\u001b[0m\u001b[0m\n\u001b[0;32m---> 22\u001b[0;31m \u001b[0max\u001b[0m\u001b[0;34m.\u001b[0m\u001b[0mset_xticks\u001b[0m\u001b[0;34m(\u001b[0m\u001b[0mxd\u001b[0m\u001b[0;34m,\u001b[0m \u001b[0mlabels\u001b[0m\u001b[0;34m=\u001b[0m\u001b[0;34m[\u001b[0m\u001b[0;34m\"x0\"\u001b[0m\u001b[0;34m,\u001b[0m \u001b[0;34m\"x0+h\"\u001b[0m\u001b[0;34m]\u001b[0m\u001b[0;34m)\u001b[0m\u001b[0;34m\u001b[0m\u001b[0;34m\u001b[0m\u001b[0m\n\u001b[0m\u001b[1;32m     23\u001b[0m \u001b[0mglue\u001b[0m\u001b[0;34m(\u001b[0m\u001b[0;34m\"deriv_d\"\u001b[0m\u001b[0;34m,\u001b[0m \u001b[0mf\u001b[0m\u001b[0;34m,\u001b[0m \u001b[0mdisplay\u001b[0m\u001b[0;34m=\u001b[0m\u001b[0;34m\"False\"\u001b[0m\u001b[0;34m)\u001b[0m\u001b[0;34m\u001b[0m\u001b[0;34m\u001b[0m\u001b[0m\n\u001b[1;32m     24\u001b[0m \u001b[0;34m\u001b[0m\u001b[0m\n",
      "\u001b[0;32m~/miniconda3/envs/prepa/lib/python3.9/site-packages/matplotlib/axes/_base.py\u001b[0m in \u001b[0;36mwrapper\u001b[0;34m(self, *args, **kwargs)\u001b[0m\n\u001b[1;32m     61\u001b[0m \u001b[0;34m\u001b[0m\u001b[0m\n\u001b[1;32m     62\u001b[0m         \u001b[0;32mdef\u001b[0m \u001b[0mwrapper\u001b[0m\u001b[0;34m(\u001b[0m\u001b[0mself\u001b[0m\u001b[0;34m,\u001b[0m \u001b[0;34m*\u001b[0m\u001b[0margs\u001b[0m\u001b[0;34m,\u001b[0m \u001b[0;34m**\u001b[0m\u001b[0mkwargs\u001b[0m\u001b[0;34m)\u001b[0m\u001b[0;34m:\u001b[0m\u001b[0;34m\u001b[0m\u001b[0;34m\u001b[0m\u001b[0m\n\u001b[0;32m---> 63\u001b[0;31m             \u001b[0;32mreturn\u001b[0m \u001b[0mget_method\u001b[0m\u001b[0;34m(\u001b[0m\u001b[0mself\u001b[0m\u001b[0;34m)\u001b[0m\u001b[0;34m(\u001b[0m\u001b[0;34m*\u001b[0m\u001b[0margs\u001b[0m\u001b[0;34m,\u001b[0m \u001b[0;34m**\u001b[0m\u001b[0mkwargs\u001b[0m\u001b[0;34m)\u001b[0m\u001b[0;34m\u001b[0m\u001b[0;34m\u001b[0m\u001b[0m\n\u001b[0m\u001b[1;32m     64\u001b[0m \u001b[0;34m\u001b[0m\u001b[0m\n\u001b[1;32m     65\u001b[0m         \u001b[0mwrapper\u001b[0m\u001b[0;34m.\u001b[0m\u001b[0m__module__\u001b[0m \u001b[0;34m=\u001b[0m \u001b[0mowner\u001b[0m\u001b[0;34m.\u001b[0m\u001b[0m__module__\u001b[0m\u001b[0;34m\u001b[0m\u001b[0;34m\u001b[0m\u001b[0m\n",
      "\u001b[0;32m~/miniconda3/envs/prepa/lib/python3.9/site-packages/matplotlib/cbook/deprecation.py\u001b[0m in \u001b[0;36mwrapper\u001b[0;34m(*args, **kwargs)\u001b[0m\n\u001b[1;32m    449\u001b[0m                 \u001b[0;34m\"parameter will become keyword-only %(removal)s.\"\u001b[0m\u001b[0;34m,\u001b[0m\u001b[0;34m\u001b[0m\u001b[0;34m\u001b[0m\u001b[0m\n\u001b[1;32m    450\u001b[0m                 name=name, obj_type=f\"parameter of {func.__name__}()\")\n\u001b[0;32m--> 451\u001b[0;31m         \u001b[0;32mreturn\u001b[0m \u001b[0mfunc\u001b[0m\u001b[0;34m(\u001b[0m\u001b[0;34m*\u001b[0m\u001b[0margs\u001b[0m\u001b[0;34m,\u001b[0m \u001b[0;34m**\u001b[0m\u001b[0mkwargs\u001b[0m\u001b[0;34m)\u001b[0m\u001b[0;34m\u001b[0m\u001b[0;34m\u001b[0m\u001b[0m\n\u001b[0m\u001b[1;32m    452\u001b[0m \u001b[0;34m\u001b[0m\u001b[0m\n\u001b[1;32m    453\u001b[0m     \u001b[0;32mreturn\u001b[0m \u001b[0mwrapper\u001b[0m\u001b[0;34m\u001b[0m\u001b[0;34m\u001b[0m\u001b[0m\n",
      "\u001b[0;31mTypeError\u001b[0m: set_ticks() got an unexpected keyword argument 'labels'"
     ]
    },
    {
     "data": {
      "image/png": "[encoded data removed]",
      "text/plain": [
       "<Figure size 432x288 with 1 Axes>"
      ]
     },
     "metadata": {
      "filenames": {
       "image/png": "/home/ubuntu/Dropbox/Enseignement prepas/approche_numeriques/sujets/_build/jupyter_execute/derivation_integration_1_1.png"
      },
      "needs_background": "light"
     },
     "output_type": "display_data"
    }
   ],
   "source": [
    "import numpy as np\n",
    "import matplotlib.pyplot as plt\n",
    "from myst_nb import glue\n",
    "\n",
    "x = np.linspace(0, np.pi / 2, 1000)\n",
    "y = np.sin(x) - x ** 3\n",
    "\n",
    "Kd = 1.1\n",
    "Kg = 2 - Kd\n",
    "xd = np.array([np.pi / 4, np.pi / 4 * Kd])\n",
    "yd = np.sin(xd) - xd ** 3\n",
    "xg = np.array([np.pi / 4 * Kg, np.pi / 4])\n",
    "yg = np.sin(xg) - xg ** 3\n",
    "xc = np.array([np.pi / 4 * Kg, np.pi / 4 * Kd])\n",
    "xc2 = [np.pi / 4 * Kg, np.pi / 4, np.pi / 4 * Kd]\n",
    "yc = np.sin(xc) - xc ** 3\n",
    "\n",
    "f, ax = plt.subplots()\n",
    "f.suptitle(\"Dérivée à droite\")\n",
    "ax.plot(y, x, linewidth=1.3, color=\"blue\")\n",
    "ax.plot(yd, xd, linewidth=1, color=\"red\")\n",
    "ax.set_xticks(xd, labels=[\"x0\", \"x0+h\"])\n",
    "glue(\"deriv_d\", f, display=\"False\")\n",
    "\n",
    "f, ax = plt.subplots()\n",
    "f.suptitle(\"Dérivée à gauche\")\n",
    "ax.plot(y, x, linewidth=1.3, color=blue)\n",
    "ax.plot(yg, xg, linewidth=1, color=red)\n",
    "ax.set_xticks(xg, labels=[\"x0-h\", \"x0\"])\n",
    "glue(\"deriv_g\", f, display=\"False\")\n",
    "\n",
    "f, ax = plt.subplots()\n",
    "f.suptitle(\"Dérivée centrée\")\n",
    "ax.plot(y, x, linewidth=1.3, color=blue)\n",
    "ax.plot(yc, xc, linewidth=1, color=red)\n",
    "ax.set_xticks(xc2, labels=[\"x0-h\", \"x0\", \"x0+h\"])\n",
    "glue(\"deriv_c\", f, display=\"False\")"
   ]
  },
  {
   "cell_type": "markdown",
   "id": "special-adobe",
   "metadata": {},
   "source": [
    "````{tabbed} Dérivée à droite\n",
    "\n",
    "$$ f'(x_0) \\approx \\frac{f(x_0 + h) - f(x_0)}{h}$$\n",
    "```{glue:figure} deriv_d\n",
    ":align: center\n",
    "```\n",
    "````\n",
    "\n",
    "````{tabbed} Dérivée à gauche\n",
    "\n",
    "$$ f'(x_0) \\approx \\frac{f(x_0) - f(x_0 - h)}{h}$$\n",
    "```{glue:figure} deriv_g\n",
    ":align: center\n",
    "```\n",
    "````\n",
    "\n",
    "````{tabbed} Dérivée centrée\n",
    "\n",
    "$$ f'(x_0) \\approx \\frac{f(x_0 + h) - f(x_0 - h)}{2h}$$\n",
    "```{glue:figure} deriv_c\n",
    ":align: center\n",
    "```\n",
    "````"
   ]
  }
 ],
 "metadata": {
  "jupytext": {
   "formats": "ipynb,md:myst,py:light",
   "text_representation": {
    "extension": ".md",
    "format_name": "myst",
    "format_version": 0.13,
    "jupytext_version": "1.10.3"
   }
  },
  "kernelspec": {
   "display_name": "Python 3",
   "language": "python",
   "name": "python3"
  },
  "language_info": {
   "codemirror_mode": {
    "name": "ipython",
    "version": 3
   },
   "file_extension": ".py",
   "mimetype": "text/x-python",
   "name": "python",
   "nbconvert_exporter": "python",
   "pygments_lexer": "ipython3",
   "version": "3.9.2"
  },
  "source_map": [
   13,
   33,
   72
  ]
 },
 "nbformat": 4,
 "nbformat_minor": 5
}