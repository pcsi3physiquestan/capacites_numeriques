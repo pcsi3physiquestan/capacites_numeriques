{
 "cells": [
  {
   "cell_type": "markdown",
   "id": "laden-magazine",
   "metadata": {},
   "source": [
    "# Dérivation et intégration numérique\n",
    "\n",
    "Les méthodes de dérivation et d'intégration numérique sont basées sur la définition même de ces concepts mais sans le passage à la limite.\n",
    "\n",
    "## Dérivation numérique.\n",
    "\n",
    "### Principe\n",
    "> Rappel : Soit une fonction $f$ définie et dérivable en $x_0$. Le nombre dérivée de $f$ en $x_0$ est:\n",
    "> \n",
    "> $$ f'(x_0) = \\lim_{h \\to 0} \\frac{f(x_0 + h) - f(x_0)}{h}$$\n",
    "\n",
    "L'idée de la dérivation numérique est d'approcher le nombre de dérivée $f'(x_0)$ par le calcul du taux de variation précédent pour un un $h$ non nul (on approxime donc géométriquement la tangente par la corde):\n",
    "\n",
    "$$ f'(x_0) \\approx \\frac{f(x_0 + h) - f(x_0)}{h}$$\n",
    "\n",
    "### Type de calcul\n",
    "On distingue trois façon de calcul un nombre dérivé:"
   ]
  },
  {
   "cell_type": "code",
   "execution_count": 1,
   "id": "persistent-mounting",
   "metadata": {
    "tags": [
     "remove-input",
     "remove-output"
    ]
   },
   "outputs": [
    {
     "data": {
      "image/png": "[encoded data removed]",
      "text/plain": [
       "<Figure size 432x288 with 1 Axes>"
      ]
     },
     "metadata": {
      "filenames": {
       "image/png": "/home/ubuntu/Dropbox/Enseignement prepas/approche_numeriques/sujets/_build/jupyter_execute/derivation_integration_1_0.png"
      },
      "scrapbook": {
       "mime_prefix": "",
       "name": "deriv_d"
      }
     },
     "output_type": "display_data"
    },
    {
     "ename": "NameError",
     "evalue": "name 'blue' is not defined",
     "output_type": "error",
     "traceback": [
      "\u001b[0;31m---------------------------------------------------------------------------\u001b[0m",
      "\u001b[0;31mNameError\u001b[0m                                 Traceback (most recent call last)",
      "\u001b[0;32m<ipython-input-1-4690f3da6a86>\u001b[0m in \u001b[0;36m<module>\u001b[0;34m\u001b[0m\n\u001b[1;32m     26\u001b[0m \u001b[0mf\u001b[0m\u001b[0;34m,\u001b[0m \u001b[0max\u001b[0m \u001b[0;34m=\u001b[0m \u001b[0mplt\u001b[0m\u001b[0;34m.\u001b[0m\u001b[0msubplots\u001b[0m\u001b[0;34m(\u001b[0m\u001b[0;34m)\u001b[0m\u001b[0;34m\u001b[0m\u001b[0;34m\u001b[0m\u001b[0m\n\u001b[1;32m     27\u001b[0m \u001b[0mf\u001b[0m\u001b[0;34m.\u001b[0m\u001b[0msuptitle\u001b[0m\u001b[0;34m(\u001b[0m\u001b[0;34m\"Dérivée à gauche\"\u001b[0m\u001b[0;34m)\u001b[0m\u001b[0;34m\u001b[0m\u001b[0;34m\u001b[0m\u001b[0m\n\u001b[0;32m---> 28\u001b[0;31m \u001b[0max\u001b[0m\u001b[0;34m.\u001b[0m\u001b[0mplot\u001b[0m\u001b[0;34m(\u001b[0m\u001b[0my\u001b[0m\u001b[0;34m,\u001b[0m \u001b[0mx\u001b[0m\u001b[0;34m,\u001b[0m \u001b[0mlinewidth\u001b[0m\u001b[0;34m=\u001b[0m\u001b[0;36m1.3\u001b[0m\u001b[0;34m,\u001b[0m \u001b[0mcolor\u001b[0m\u001b[0;34m=\u001b[0m\u001b[0mblue\u001b[0m\u001b[0;34m)\u001b[0m\u001b[0;34m\u001b[0m\u001b[0;34m\u001b[0m\u001b[0m\n\u001b[0m\u001b[1;32m     29\u001b[0m \u001b[0max\u001b[0m\u001b[0;34m.\u001b[0m\u001b[0mplot\u001b[0m\u001b[0;34m(\u001b[0m\u001b[0myg\u001b[0m\u001b[0;34m,\u001b[0m \u001b[0mxg\u001b[0m\u001b[0;34m,\u001b[0m \u001b[0mlinewidth\u001b[0m\u001b[0;34m=\u001b[0m\u001b[0;36m1\u001b[0m\u001b[0;34m,\u001b[0m \u001b[0mcolor\u001b[0m\u001b[0;34m=\u001b[0m\u001b[0mred\u001b[0m\u001b[0;34m)\u001b[0m\u001b[0;34m\u001b[0m\u001b[0;34m\u001b[0m\u001b[0m\n\u001b[1;32m     30\u001b[0m \u001b[0max\u001b[0m\u001b[0;34m.\u001b[0m\u001b[0mset_xticks\u001b[0m\u001b[0;34m(\u001b[0m\u001b[0mxg\u001b[0m\u001b[0;34m)\u001b[0m\u001b[0;34m\u001b[0m\u001b[0;34m\u001b[0m\u001b[0m\n",
      "\u001b[0;31mNameError\u001b[0m: name 'blue' is not defined"
     ]
    },
    {
     "data": {
      "image/png": "[encoded data removed]",
      "text/plain": [
       "<Figure size 432x288 with 1 Axes>"
      ]
     },
     "metadata": {
      "filenames": {
       "image/png": "/home/ubuntu/Dropbox/Enseignement prepas/approche_numeriques/sujets/_build/jupyter_execute/derivation_integration_1_2.png"
      },
      "needs_background": "light"
     },
     "output_type": "display_data"
    },
    {
     "data": {
      "image/png": "[encoded data removed]",
      "text/plain": [
       "<Figure size 432x288 with 1 Axes>"
      ]
     },
     "metadata": {
      "filenames": {
       "image/png": "/home/ubuntu/Dropbox/Enseignement prepas/approche_numeriques/sujets/_build/jupyter_execute/derivation_integration_1_3.png"
      },
      "needs_background": "light"
     },
     "output_type": "display_data"
    }
   ],
   "source": [
    "import numpy as np\n",
    "import matplotlib.pyplot as plt\n",
    "from myst_nb import glue\n",
    "\n",
    "x = np.linspace(0, np.pi / 2, 1000)\n",
    "y = np.sin(x) - x ** 3\n",
    "\n",
    "Kd = 1.1\n",
    "Kg = 2 - Kd\n",
    "xd = np.array([np.pi / 4, np.pi / 4 * Kd])\n",
    "yd = np.sin(xd) - xd ** 3\n",
    "xg = np.array([np.pi / 4 * Kg, np.pi / 4])\n",
    "yg = np.sin(xg) - xg ** 3\n",
    "xc = np.array([np.pi / 4 * Kg, np.pi / 4 * Kd])\n",
    "xc2 = [np.pi / 4 * Kg, np.pi / 4, np.pi / 4 * Kd]\n",
    "yc = np.sin(xc) - xc ** 3\n",
    "\n",
    "f, ax = plt.subplots()\n",
    "f.suptitle(\"Dérivée à droite\")\n",
    "ax.plot(y, x, linewidth=1.3, color=\"blue\")\n",
    "ax.plot(yd, xd, linewidth=1, color=\"red\")\n",
    "ax.set_xticks(xd)\n",
    "ax.set_xticklabels([\"x0\", \"x0+h\"])\n",
    "glue(\"deriv_d\", f, display=\"False\")\n",
    "\n",
    "f, ax = plt.subplots()\n",
    "f.suptitle(\"Dérivée à gauche\")\n",
    "ax.plot(y, x, linewidth=1.3, color=blue)\n",
    "ax.plot(yg, xg, linewidth=1, color=red)\n",
    "ax.set_xticks(xg)\n",
    "ax.set_xticklabels([\"x0-h\", \"x0\"])\n",
    "glue(\"deriv_g\", f, display=\"False\")\n",
    "\n",
    "f, ax = plt.subplots()\n",
    "f.suptitle(\"Dérivée centrée\")\n",
    "ax.plot(y, x, linewidth=1.3, color=blue)\n",
    "ax.plot(yc, xc, linewidth=1, color=red)\n",
    "ax.set_xticks(xc2)\n",
    "ax.set_xticklabels([\"x0-h\", \"x0\", \"x0+h\"])\n",
    "glue(\"deriv_c\", f, display=\"False\")"
   ]
  },
  {
   "cell_type": "markdown",
   "id": "considerable-bermuda",
   "metadata": {},
   "source": [
    "````{tabbed} Dérivée à droite\n",
    "\n",
    "$$ f'(x_0) \\approx \\frac{f(x_0 + h) - f(x_0)}{h}$$\n",
    "```{glue:figure} deriv_d\n",
    ":align: center\n",
    "```\n",
    "````\n",
    "\n",
    "````{tabbed} Dérivée à gauche\n",
    "\n",
    "$$ f'(x_0) \\approx \\frac{f(x_0) - f(x_0 - h)}{h}$$\n",
    "```{glue:figure} deriv_g\n",
    ":align: center\n",
    "```\n",
    "````\n",
    "\n",
    "````{tabbed} Dérivée centrée\n",
    "\n",
    "$$ f'(x_0) \\approx \\frac{f(x_0 + h) - f(x_0 - h)}{2h}$$\n",
    "```{glue:figure} deriv_c\n",
    ":align: center\n",
    "```\n",
    "````"
   ]
  }
 ],
 "metadata": {
  "jupytext": {
   "formats": "ipynb,md:myst,py:light",
   "text_representation": {
    "extension": ".md",
    "format_name": "myst",
    "format_version": 0.13,
    "jupytext_version": "1.10.3"
   }
  },
  "kernelspec": {
   "display_name": "Python 3",
   "language": "python",
   "name": "python3"
  },
  "language_info": {
   "codemirror_mode": {
    "name": "ipython",
    "version": 3
   },
   "file_extension": ".py",
   "mimetype": "text/x-python",
   "name": "python",
   "nbconvert_exporter": "python",
   "pygments_lexer": "ipython3",
   "version": "3.9.2"
  },
  "source_map": [
   13,
   33,
   75
  ]
 },
 "nbformat": 4,
 "nbformat_minor": 5
}