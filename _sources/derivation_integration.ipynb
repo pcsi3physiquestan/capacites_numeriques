{
 "cells": [
  {
   "cell_type": "markdown",
   "id": "dirty-allowance",
   "metadata": {},
   "source": [
    "# Dérivation et intégration numérique\n",
    "\n",
    "Les méthodes de dérivation et d'intégration numérique sont basées sur la définition même de ces concepts mais sans le passage à la limite.\n",
    "\n",
    "## Dérivation numérique.\n",
    "\n",
    "### Principe\n",
    "> Rappel : Soit une fonction $f$ définie et dérivable en $x_0$. Le nombre dérivée de $f$ en $x_0$ est:\n",
    "> \n",
    "> $$ f'(x_0) = \\lim_{h \\to 0} \\frac{f(x_0 + h) - f(x_0)}{h}$$\n",
    "\n",
    "L'idée de la dérivation numérique est d'approcher le nombre de dérivée $f'(x_0)$ par le calcul du taux de variation précédent pour un un $h$ non nul (on approxime donc géométriquement la tangente par la corde):\n",
    "\n",
    "$$ f'(x_0) \\approx \\frac{f(x_0 + h) - f(x_0)}{h}$$\n",
    "\n",
    "### Type de calcul\n",
    "On distingue trois façon de calcul un nombre dérivé:"
   ]
  },
  {
   "cell_type": "code",
   "execution_count": 1,
   "id": "independent-repeat",
   "metadata": {
    "tags": [
     "remove-input",
     "remove-output"
    ]
   },
   "outputs": [
    {
     "ename": "SyntaxError",
     "evalue": "invalid syntax (<ipython-input-1-e79f4ffe4054>, line 28)",
     "output_type": "error",
     "traceback": [
      "\u001b[0;36m  File \u001b[0;32m\"<ipython-input-1-e79f4ffe4054>\"\u001b[0;36m, line \u001b[0;32m28\u001b[0m\n\u001b[0;31m    ax.plot(x, y linewidth=1.3, color=\"blue\")\u001b[0m\n\u001b[0m                 ^\u001b[0m\n\u001b[0;31mSyntaxError\u001b[0m\u001b[0;31m:\u001b[0m invalid syntax\n"
     ]
    }
   ],
   "source": [
    "import numpy as np\n",
    "import matplotlib.pyplot as plt\n",
    "from myst_nb import glue\n",
    "\n",
    "x = np.linspace(0, np.pi / 2, 1000)\n",
    "y = np.sin(x) - x ** 3 / 3\n",
    "\n",
    "Kd = 1.2\n",
    "Kg = 2 - Kd\n",
    "xd = np.array([np.pi / 4, np.pi / 4 * Kd])\n",
    "yd = np.sin(xd) - xd ** 3\n",
    "xg = np.array([np.pi / 4 * Kg, np.pi / 4])\n",
    "yg = np.sin(xg) - xg ** 3\n",
    "xc = np.array([np.pi / 4 * Kg, np.pi / 4 * Kd])\n",
    "xc2 = [np.pi / 4 * Kg, np.pi / 4, np.pi / 4 * Kd]\n",
    "yc = np.sin(xc) - xc ** 3\n",
    "\n",
    "f, ax = plt.subplots()\n",
    "f.suptitle(\"Dérivée à droite\")\n",
    "ax.plot(x, y, linewidth=1.3, color=\"blue\")\n",
    "ax.plot(xd, yd, linewidth=1, color=\"red\")\n",
    "ax.set_xticks(xd)\n",
    "ax.set_xticklabels([\"x0\", \"x0+h\"])\n",
    "glue(\"deriv_d\", f, display=\"False\")\n",
    "\n",
    "f, ax = plt.subplots()\n",
    "f.suptitle(\"Dérivée à gauche\")\n",
    "ax.plot(x, y linewidth=1.3, color=\"blue\")\n",
    "ax.plot(xg, yg, linewidth=1, color=\"red\")\n",
    "ax.set_xticks(xg)\n",
    "ax.set_xticklabels([\"x0-h\", \"x0\"])\n",
    "glue(\"deriv_g\", f, display=\"False\")\n",
    "\n",
    "f, ax = plt.subplots()\n",
    "f.suptitle(\"Dérivée centrée\")\n",
    "ax.plot(x, y, linewidth=1.3, color=\"blue\")\n",
    "ax.plot(xc,yc, linewidth=1, color=\"red\")\n",
    "ax.set_xticks(xc2)\n",
    "ax.set_xticklabels([\"x0-h\", \"x0\", \"x0+h\"])\n",
    "glue(\"deriv_c\", f, display=\"False\")"
   ]
  },
  {
   "cell_type": "markdown",
   "id": "administrative-idaho",
   "metadata": {},
   "source": [
    "````{tabbed} Dérivée à droite\n",
    "\n",
    "$$ f'(x_0) \\approx \\frac{f(x_0 + h) - f(x_0)}{h}$$\n",
    "```{glue:figure} deriv_d\n",
    ":align: center\n",
    "```\n",
    "````\n",
    "\n",
    "````{tabbed} Dérivée à gauche\n",
    "\n",
    "$$ f'(x_0) \\approx \\frac{f(x_0) - f(x_0 - h)}{h}$$\n",
    "```{glue:figure} deriv_g\n",
    ":align: center\n",
    "```\n",
    "````\n",
    "\n",
    "````{tabbed} Dérivée centrée\n",
    "\n",
    "$$ f'(x_0) \\approx \\frac{f(x_0 + h) - f(x_0 - h)}{2h}$$\n",
    "```{glue:figure} deriv_c\n",
    ":align: center\n",
    "```\n",
    "````"
   ]
  }
 ],
 "metadata": {
  "jupytext": {
   "formats": "ipynb,md:myst,py:light",
   "text_representation": {
    "extension": ".md",
    "format_name": "myst",
    "format_version": 0.13,
    "jupytext_version": "1.10.3"
   }
  },
  "kernelspec": {
   "display_name": "Python 3",
   "language": "python",
   "name": "python3"
  },
  "language_info": {
   "codemirror_mode": {
    "name": "ipython",
    "version": 3
   },
   "file_extension": ".py",
   "mimetype": "text/x-python",
   "name": "python",
   "nbconvert_exporter": "python",
   "pygments_lexer": "ipython3",
   "version": "3.9.2"
  },
  "source_map": [
   13,
   33,
   75
  ]
 },
 "nbformat": 4,
 "nbformat_minor": 5
}