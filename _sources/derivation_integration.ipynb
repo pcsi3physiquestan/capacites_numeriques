{
 "cells": [
  {
   "cell_type": "markdown",
   "id": "explicit-ceremony",
   "metadata": {},
   "source": [
    "# Dérivation et intégration numérique\n",
    "\n",
    "Les méthodes de dérivation et d'intégration numérique sont basées sur la définition même de ces concepts mais sans le passage à la limite.\n",
    "\n",
    "## Dérivation numérique.\n",
    "\n",
    "### Principe\n",
    "> Rappel : Soit une fonction $f$ définie et dérivable en $x_0$. Le nombre dérivée de $f$ en $x_0$ est:\n",
    "> \n",
    "> $$ f'(x_0) = \\lim_{h \\to 0} \\frac{f(x_0 + h) - f(x_0)}{h}$$\n",
    "\n",
    "L'idée de la dérivation numérique est d'approcher le nombre de dérivée $f'(x_0)$ par le calcul du taux de variation précédent pour un un $h$ non nul (on approxime donc géométriquement la tangente par la corde):\n",
    "\n",
    "$$ f'(x_0) \\approx \\frac{f(x_0 + h) - f(x_0)}{h}$$\n",
    "\n",
    "### Type de calcul\n",
    "On distingue trois façon de calcul un nombre dérivé:"
   ]
  },
  {
   "cell_type": "code",
   "execution_count": 1,
   "id": "known-representative",
   "metadata": {
    "tags": [
     "remove-input",
     "remove-output"
    ]
   },
   "outputs": [
    {
     "ename": "TypeError",
     "evalue": "unsupported operand type(s) for ** or pow(): 'list' and 'int'",
     "output_type": "error",
     "traceback": [
      "\u001b[0;31m---------------------------------------------------------------------------\u001b[0m",
      "\u001b[0;31mTypeError\u001b[0m                                 Traceback (most recent call last)",
      "\u001b[0;32m<ipython-input-1-b45192abe8b5>\u001b[0m in \u001b[0;36m<module>\u001b[0;34m\u001b[0m\n\u001b[1;32m      9\u001b[0m \u001b[0mKg\u001b[0m \u001b[0;34m=\u001b[0m \u001b[0;36m2\u001b[0m \u001b[0;34m-\u001b[0m \u001b[0mKd\u001b[0m\u001b[0;34m\u001b[0m\u001b[0;34m\u001b[0m\u001b[0m\n\u001b[1;32m     10\u001b[0m \u001b[0mxd\u001b[0m \u001b[0;34m=\u001b[0m \u001b[0;34m[\u001b[0m\u001b[0mnp\u001b[0m\u001b[0;34m.\u001b[0m\u001b[0mpi\u001b[0m \u001b[0;34m/\u001b[0m \u001b[0;36m4\u001b[0m\u001b[0;34m,\u001b[0m \u001b[0mnp\u001b[0m\u001b[0;34m.\u001b[0m\u001b[0mpi\u001b[0m \u001b[0;34m/\u001b[0m \u001b[0;36m4\u001b[0m \u001b[0;34m*\u001b[0m \u001b[0mKd\u001b[0m\u001b[0;34m]\u001b[0m\u001b[0;34m\u001b[0m\u001b[0;34m\u001b[0m\u001b[0m\n\u001b[0;32m---> 11\u001b[0;31m \u001b[0myd\u001b[0m \u001b[0;34m=\u001b[0m \u001b[0mnp\u001b[0m\u001b[0;34m.\u001b[0m\u001b[0msin\u001b[0m\u001b[0;34m(\u001b[0m\u001b[0mxd\u001b[0m\u001b[0;34m)\u001b[0m \u001b[0;34m-\u001b[0m \u001b[0mxd\u001b[0m \u001b[0;34m**\u001b[0m \u001b[0;36m3\u001b[0m\u001b[0;34m\u001b[0m\u001b[0;34m\u001b[0m\u001b[0m\n\u001b[0m\u001b[1;32m     12\u001b[0m \u001b[0mxg\u001b[0m \u001b[0;34m=\u001b[0m \u001b[0;34m[\u001b[0m\u001b[0mnp\u001b[0m\u001b[0;34m.\u001b[0m\u001b[0mpi\u001b[0m \u001b[0;34m/\u001b[0m \u001b[0;36m4\u001b[0m \u001b[0;34m*\u001b[0m \u001b[0mKg\u001b[0m\u001b[0;34m,\u001b[0m \u001b[0mnp\u001b[0m\u001b[0;34m.\u001b[0m\u001b[0mpi\u001b[0m \u001b[0;34m/\u001b[0m \u001b[0;36m4\u001b[0m\u001b[0;34m]\u001b[0m\u001b[0;34m\u001b[0m\u001b[0;34m\u001b[0m\u001b[0m\n\u001b[1;32m     13\u001b[0m \u001b[0myg\u001b[0m \u001b[0;34m=\u001b[0m \u001b[0mnp\u001b[0m\u001b[0;34m.\u001b[0m\u001b[0msin\u001b[0m\u001b[0;34m(\u001b[0m\u001b[0mxg\u001b[0m\u001b[0;34m)\u001b[0m \u001b[0;34m-\u001b[0m \u001b[0mxg\u001b[0m \u001b[0;34m**\u001b[0m \u001b[0;36m3\u001b[0m\u001b[0;34m\u001b[0m\u001b[0;34m\u001b[0m\u001b[0m\n",
      "\u001b[0;31mTypeError\u001b[0m: unsupported operand type(s) for ** or pow(): 'list' and 'int'"
     ]
    }
   ],
   "source": [
    "import numpy as np\n",
    "import matplotlib.pyplot as plt\n",
    "from myst_nb import glue\n",
    "\n",
    "x = np.linspace(0, np.pi / 2, 1000)\n",
    "y = np.sin(x) - x ** 3\n",
    "\n",
    "Kd = 1.1\n",
    "Kg = 2 - Kd\n",
    "xd = [np.pi / 4, np.pi / 4 * Kd]\n",
    "yd = np.sin(xd) - xd ** 3\n",
    "xg = [np.pi / 4 * Kg, np.pi / 4]\n",
    "yg = np.sin(xg) - xg ** 3\n",
    "xc = [np.pi / 4 * Kg, np.pi / 4 * Kd]\n",
    "xc2 = [np.pi / 4 * Kg, np.pi / 4, np.pi / 4 * Kd]\n",
    "yc = np.sin(xc) - xc ** 3\n",
    "\n",
    "f, ax = plt.subplots()\n",
    "f.suptitle(\"Dérivée à droite\")\n",
    "ax.plot(y, x, linewidth=1.3, color=blue)\n",
    "ax.plot(yd, xd, linewidth=1, color=red)\n",
    "ax.set_xticks(xd, label=[\"x0\", \"x0+h\"])\n",
    "glue(\"deriv_d\", f, display=\"False\")\n",
    "\n",
    "f, ax = plt.subplots()\n",
    "f.suptitle(\"Dérivée à gauche\")\n",
    "ax.plot(y, x, linewidth=1.3, color=blue)\n",
    "ax.plot(yg, xg, linewidth=1, color=red)\n",
    "ax.set_xticks(xg, label=[\"x0-h\", \"x0\"])\n",
    "glue(\"deriv_g\", f, display=\"False\")\n",
    "\n",
    "f, ax = plt.subplots()\n",
    "f.suptitle(\"Dérivée centrée\")\n",
    "ax.plot(y, x, linewidth=1.3, color=blue)\n",
    "ax.plot(yc, xc, linewidth=1, color=red)\n",
    "ax.set_xticks(xc2, label=[\"x0-h\", \"x0\", \"x0+h\"])\n",
    "glue(\"deriv_c\", f, display=\"False\")\n"
   ]
  },
  {
   "cell_type": "markdown",
   "id": "behind-thing",
   "metadata": {},
   "source": [
    "````{tabbed} Dérivée à droite\n",
    "\n",
    "$$ f'(x_0) \\approx \\frac{f(x_0 + h) - f(x_0)}{h}$$\n",
    "```{glue:figure} deriv_d\n",
    ":align: center\n",
    "```\n",
    "````\n",
    "\n",
    "````{tabbed} Dérivée à gauche\n",
    "\n",
    "$$ f'(x_0) \\approx \\frac{f(x_0) - f(x_0 - h)}{h}$$\n",
    "```{glue:figure} deriv_g\n",
    ":align: center\n",
    "```\n",
    "````\n",
    "\n",
    "````{tabbed} Dérivée centrée\n",
    "\n",
    "$$ f'(x_0) \\approx \\frac{f(x_0 + h) - f(x_0 - h)}{2h}$$\n",
    "```{glue:figure} deriv_c\n",
    ":align: center\n",
    "```\n",
    "````"
   ]
  }
 ],
 "metadata": {
  "jupytext": {
   "formats": "ipynb,md:myst,py:light",
   "text_representation": {
    "extension": ".md",
    "format_name": "myst",
    "format_version": 0.13,
    "jupytext_version": "1.10.3"
   }
  },
  "kernelspec": {
   "display_name": "Python 3",
   "language": "python",
   "name": "python3"
  },
  "language_info": {
   "codemirror_mode": {
    "name": "ipython",
    "version": 3
   },
   "file_extension": ".py",
   "mimetype": "text/x-python",
   "name": "python",
   "nbconvert_exporter": "python",
   "pygments_lexer": "ipython3",
   "version": "3.9.2"
  },
  "source_map": [
   13,
   33,
   74
  ]
 },
 "nbformat": 4,
 "nbformat_minor": 5
}