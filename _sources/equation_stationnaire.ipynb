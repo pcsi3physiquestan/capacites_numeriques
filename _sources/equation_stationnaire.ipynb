{
 "cells": [
  {
   "cell_type": "markdown",
   "id": "974c106d",
   "metadata": {},
   "source": [
    "# Résolution d'équation stationnaire\n",
    "On va ici donner quelques méthodes pour résoudre une équation stationnaire, c'est-à-dire résoudre une équation du type:\n",
    "\n",
    "$$\n",
    "f(x) = 0\n",
    "$$\n",
    "\n",
    "sur un intervalle $[a,b]$ __dans lequel on sait qu'il n'y a qu'une seule racine__ qui sera noté $x_0$.\n",
    "\n",
    "## Unicité de la racine\n",
    "```{margin}\n",
    "Dans la plupart des cas pour nous, une étude graphique peut suffire.\n",
    "```\n",
    "L'hypothèse d'unicité de la racine est fondamental car sinon, on ne sait pas si on va obtenir celle voulue. La résolution d'une équation stationnaire passe donc par __une étude initiale de la fonction pour réduire l'intervalle de recherche à un intervalle ne contenant qu'une seule racine.__ \n",
    "\n",
    "## Méthode par dichotomie\n",
    "\n",
    "_Condition:_ $f$ est continue sur l'intervalle $[a,b]$ et $f(a) f(b) < 0$ (ainsi $f$ admet au moins une racine dansl'intervalle (TVI)).\n",
    "\n",
    "Principe:\n",
    "* On coupe l'intervalle $[a,b]$ en deux parties égales (soit $c = \\frac{a+b}{2}$) le milieu\n",
    "* On regarde dans quelle moitié se trouve la racine en testant les signes des produits $f(a)f(c)$ et $f(c)f(b)$\n",
    "    * Si $f(a)f(c) < 0$, la racine est dans l'intervalle $[a,c]$, on réitère le test précédent mais avec l'intervalle $[a,c]$ (soit $b = c$ maintenant)\n",
    "    * Si $f(c)f(b) < 0$, la racine est dans l'intervalle $[c,b]$, on réitère le test précédent mais avec l'intervalle $[c,b]$ (soit $a = c$ maintenant)\n",
    "* On recommence jusqu'à atteindre un critère fixé:\n",
    "    * soit la largeur de l'intervalle de recherche est plus petit que la précision choisie : $[a_{finale}, b_{finale}] < precx$\n",
    "    * soit le maximum de $f$ sur l'intervalle $[a_{finale}, b_{finale}]$ est inférieure à une précision choisie $precy$\n",
    "    * on peut imposer les deux conditions si nécessaire.\n",
    "\n",
    "```{figure} ./images/recherche_racine_dichotomie.gif\n",
    ":name: dicho_gr\n",
    ":align: center\n",
    "Méthode par dichotomie\n",
    "```\n",
    "\n",
    "## Méthode de Newton\n",
    "_Condition:_ $f$ est de classe $C^1$ sur l'intervalle $[a,b]$.\n",
    "\n",
    "* On part d'une valeur $x_0$ dans l'intervalle et on trace la tangente à la courbe de $f$ en $a$. Son équation est:\n",
    "\n",
    "$$\n",
    "y_{tangente,x_0} = f(x_0) + f'(x_0) (x - x_0)\n",
    "$$\n",
    "\n",
    "* On cherche alors l'abscisse $x_1$ où la tangente coupe l'axe des abscisse soit:\n",
    "\n",
    "$$\n",
    "x_1 = x_0 - \\frac{f(x_0)}{f'(x_0)}\n",
    "$$\n",
    "\n",
    "* On recommence en travaillant avec la tangente en $x_1$\n",
    "* On s'arrête quand un critère similaire à la dichotomie (écart entre deux abscisses $x_{i+1}$ et $x_i$ ou faible valeur de $f(x_i)$) est atteint.\n",
    "\n",
    "```{figure} ./images/recherche_racine_newton.gif\n",
    ":name: newton_gr\n",
    ":align: center\n",
    "Méthode par Newton\n",
    "```\n",
    "\n",
    "_Avantage et inconvénient:_ La méthode de Newton est beaucoup plus rapide que la méthode par dichotomie mais elle nécessite de connaître la dérivée ou de la calculer par dérivation numérique."
   ]
  }
 ],
 "metadata": {
  "jupytext": {
   "encoding": "# -*- coding: utf-8 -*-",
   "formats": "ipynb,py:light",
   "text_representation": {
    "extension": ".md",
    "format_name": "myst",
    "format_version": 0.13,
    "jupytext_version": "1.10.3"
   }
  },
  "kernelspec": {
   "display_name": "Python 3",
   "language": "python",
   "name": "python3"
  },
  "language_info": {
   "codemirror_mode": {
    "name": "ipython",
    "version": 3
   },
   "file_extension": ".py",
   "mimetype": "text/x-python",
   "name": "python",
   "nbconvert_exporter": "python",
   "pygments_lexer": "ipython3",
   "version": "3.9.15"
  },
  "source_map": [
   14
  ]
 },
 "nbformat": 4,
 "nbformat_minor": 5
}